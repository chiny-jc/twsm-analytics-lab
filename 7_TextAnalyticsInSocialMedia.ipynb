{
 "cells": [
  {
   "cell_type": "markdown",
   "metadata": {
    "id": "ut1Q4MIMj5n0"
   },
   "source": [
    "# Exercise 7. Text Analytics in Social Media\n",
    "\n",
    "## Text, Web and Social Media Analytics Lab"
   ]
  },
  {
   "cell_type": "markdown",
   "metadata": {
    "id": "F0z5wQ2KkB4u"
   },
   "source": [
    "In this exercise, we will be using the [Twitter US Airline Sentiment](https://www.kaggle.com/crowdflower/twitter-airline-sentiment) dataset from Kaggle for Twitter sentiment analysis. We will first clean the data and then apply two well-known NLP packages for sentiment analysis. After that, we will train our own supervised and unsupervised sentiment analysis classifiers. We will follow the next steps: \n",
    "\n",
    "- Text Preprocessing\n",
    "- Sentiment Analysis with NLP packages\n",
    "- Supervised Sentiment Classifier\n",
    "- Unsupervised Sentiment Classifier"
   ]
  },
  {
   "cell_type": "markdown",
   "metadata": {
    "id": "M2Lf3WpFlZuK"
   },
   "source": [
    "We first install, import and download all the necessary libraries."
   ]
  },
  {
   "cell_type": "code",
   "execution_count": 1,
   "metadata": {
    "colab": {
     "base_uri": "https://localhost:8080/"
    },
    "executionInfo": {
     "elapsed": 3834,
     "status": "ok",
     "timestamp": 1622498246382,
     "user": {
      "displayName": "Joshua Campos",
      "photoUrl": "https://lh3.googleusercontent.com/a-/AOh14GgNBYf7hbBqn4J1KUTIQ-AfTLBSfnvPEaVkswsDbg=s64",
      "userId": "15520650830739661074"
     },
     "user_tz": -120
    },
    "id": "dHi0AycRc231",
    "outputId": "9df452ce-f630-446f-c27c-fd43dc4663af"
   },
   "outputs": [
    {
     "name": "stdout",
     "output_type": "stream",
     "text": [
      "Requirement already satisfied: tweet-preprocessor in /usr/local/lib/python3.7/dist-packages (0.6.0)\n",
      "[nltk_data] Downloading package vader_lexicon to /root/nltk_data...\n",
      "[nltk_data]   Package vader_lexicon is already up-to-date!\n"
     ]
    },
    {
     "name": "stderr",
     "output_type": "stream",
     "text": [
      "/usr/local/lib/python3.7/dist-packages/nltk/twitter/__init__.py:20: UserWarning: The twython library has not been installed. Some functionality from the twitter package will not be available.\n",
      "  warnings.warn(\"The twython library has not been installed. \"\n"
     ]
    }
   ],
   "source": [
    "!pip install tweet-preprocessor\n",
    "\n",
    "import nltk\n",
    "import numpy as np\n",
    "import pandas as pd\n",
    "import inspect\n",
    "import preprocessor\n",
    "import matplotlib.pyplot as plt\n",
    "from seaborn import countplot, distplot, heatmap\n",
    "from textblob import TextBlob\n",
    "from nltk.sentiment.vader import SentimentIntensityAnalyzer\n",
    "from sklearn.ensemble import RandomForestClassifier\n",
    "from sklearn.model_selection import GridSearchCV, train_test_split\n",
    "from sklearn.metrics import classification_report\n",
    "from sklearn.cluster import KMeans\n",
    "from sklearn.feature_extraction.text import TfidfVectorizer\n",
    "from preprocessor.api import clean\n",
    "\n",
    "nltk.download('vader_lexicon')\n",
    "np.random.seed(37)"
   ]
  },
  {
   "cell_type": "markdown",
   "metadata": {
    "id": "XLB0uzhjoVnm"
   },
   "source": [
    "## Part A: Text Preprocessing"
   ]
  },
  {
   "cell_type": "markdown",
   "metadata": {
    "id": "K3KSquDzpBcs"
   },
   "source": [
    "We load the dataset and show the head to understand how the data looks like."
   ]
  },
  {
   "cell_type": "code",
   "execution_count": 2,
   "metadata": {
    "colab": {
     "base_uri": "https://localhost:8080/",
     "height": 445
    },
    "executionInfo": {
     "elapsed": 10,
     "status": "ok",
     "timestamp": 1622498246383,
     "user": {
      "displayName": "Joshua Campos",
      "photoUrl": "https://lh3.googleusercontent.com/a-/AOh14GgNBYf7hbBqn4J1KUTIQ-AfTLBSfnvPEaVkswsDbg=s64",
      "userId": "15520650830739661074"
     },
     "user_tz": -120
    },
    "id": "kgBngg7mlieT",
    "outputId": "515e09e1-57cd-4cd2-db9c-f5661d03694a"
   },
   "outputs": [
    {
     "data": {
      "text/html": [
       "<div>\n",
       "<style scoped>\n",
       "    .dataframe tbody tr th:only-of-type {\n",
       "        vertical-align: middle;\n",
       "    }\n",
       "\n",
       "    .dataframe tbody tr th {\n",
       "        vertical-align: top;\n",
       "    }\n",
       "\n",
       "    .dataframe thead th {\n",
       "        text-align: right;\n",
       "    }\n",
       "</style>\n",
       "<table border=\"1\" class=\"dataframe\">\n",
       "  <thead>\n",
       "    <tr style=\"text-align: right;\">\n",
       "      <th></th>\n",
       "      <th>tweet_id</th>\n",
       "      <th>airline_sentiment</th>\n",
       "      <th>airline_sentiment_confidence</th>\n",
       "      <th>negativereason</th>\n",
       "      <th>negativereason_confidence</th>\n",
       "      <th>airline</th>\n",
       "      <th>airline_sentiment_gold</th>\n",
       "      <th>name</th>\n",
       "      <th>negativereason_gold</th>\n",
       "      <th>retweet_count</th>\n",
       "      <th>text</th>\n",
       "      <th>tweet_coord</th>\n",
       "      <th>tweet_created</th>\n",
       "      <th>tweet_location</th>\n",
       "      <th>user_timezone</th>\n",
       "    </tr>\n",
       "  </thead>\n",
       "  <tbody>\n",
       "    <tr>\n",
       "      <th>0</th>\n",
       "      <td>570306133677760513</td>\n",
       "      <td>neutral</td>\n",
       "      <td>1.0000</td>\n",
       "      <td>NaN</td>\n",
       "      <td>NaN</td>\n",
       "      <td>Virgin America</td>\n",
       "      <td>NaN</td>\n",
       "      <td>cairdin</td>\n",
       "      <td>NaN</td>\n",
       "      <td>0</td>\n",
       "      <td>@VirginAmerica What @dhepburn said.</td>\n",
       "      <td>NaN</td>\n",
       "      <td>2015-02-24 11:35:52 -0800</td>\n",
       "      <td>NaN</td>\n",
       "      <td>Eastern Time (US &amp; Canada)</td>\n",
       "    </tr>\n",
       "    <tr>\n",
       "      <th>1</th>\n",
       "      <td>570301130888122368</td>\n",
       "      <td>positive</td>\n",
       "      <td>0.3486</td>\n",
       "      <td>NaN</td>\n",
       "      <td>0.0000</td>\n",
       "      <td>Virgin America</td>\n",
       "      <td>NaN</td>\n",
       "      <td>jnardino</td>\n",
       "      <td>NaN</td>\n",
       "      <td>0</td>\n",
       "      <td>@VirginAmerica plus you've added commercials t...</td>\n",
       "      <td>NaN</td>\n",
       "      <td>2015-02-24 11:15:59 -0800</td>\n",
       "      <td>NaN</td>\n",
       "      <td>Pacific Time (US &amp; Canada)</td>\n",
       "    </tr>\n",
       "    <tr>\n",
       "      <th>2</th>\n",
       "      <td>570301083672813571</td>\n",
       "      <td>neutral</td>\n",
       "      <td>0.6837</td>\n",
       "      <td>NaN</td>\n",
       "      <td>NaN</td>\n",
       "      <td>Virgin America</td>\n",
       "      <td>NaN</td>\n",
       "      <td>yvonnalynn</td>\n",
       "      <td>NaN</td>\n",
       "      <td>0</td>\n",
       "      <td>@VirginAmerica I didn't today... Must mean I n...</td>\n",
       "      <td>NaN</td>\n",
       "      <td>2015-02-24 11:15:48 -0800</td>\n",
       "      <td>Lets Play</td>\n",
       "      <td>Central Time (US &amp; Canada)</td>\n",
       "    </tr>\n",
       "    <tr>\n",
       "      <th>3</th>\n",
       "      <td>570301031407624196</td>\n",
       "      <td>negative</td>\n",
       "      <td>1.0000</td>\n",
       "      <td>Bad Flight</td>\n",
       "      <td>0.7033</td>\n",
       "      <td>Virgin America</td>\n",
       "      <td>NaN</td>\n",
       "      <td>jnardino</td>\n",
       "      <td>NaN</td>\n",
       "      <td>0</td>\n",
       "      <td>@VirginAmerica it's really aggressive to blast...</td>\n",
       "      <td>NaN</td>\n",
       "      <td>2015-02-24 11:15:36 -0800</td>\n",
       "      <td>NaN</td>\n",
       "      <td>Pacific Time (US &amp; Canada)</td>\n",
       "    </tr>\n",
       "    <tr>\n",
       "      <th>4</th>\n",
       "      <td>570300817074462722</td>\n",
       "      <td>negative</td>\n",
       "      <td>1.0000</td>\n",
       "      <td>Can't Tell</td>\n",
       "      <td>1.0000</td>\n",
       "      <td>Virgin America</td>\n",
       "      <td>NaN</td>\n",
       "      <td>jnardino</td>\n",
       "      <td>NaN</td>\n",
       "      <td>0</td>\n",
       "      <td>@VirginAmerica and it's a really big bad thing...</td>\n",
       "      <td>NaN</td>\n",
       "      <td>2015-02-24 11:14:45 -0800</td>\n",
       "      <td>NaN</td>\n",
       "      <td>Pacific Time (US &amp; Canada)</td>\n",
       "    </tr>\n",
       "  </tbody>\n",
       "</table>\n",
       "</div>"
      ],
      "text/plain": [
       "             tweet_id  ...               user_timezone\n",
       "0  570306133677760513  ...  Eastern Time (US & Canada)\n",
       "1  570301130888122368  ...  Pacific Time (US & Canada)\n",
       "2  570301083672813571  ...  Central Time (US & Canada)\n",
       "3  570301031407624196  ...  Pacific Time (US & Canada)\n",
       "4  570300817074462722  ...  Pacific Time (US & Canada)\n",
       "\n",
       "[5 rows x 15 columns]"
      ]
     },
     "execution_count": 2,
     "metadata": {
      "tags": []
     },
     "output_type": "execute_result"
    }
   ],
   "source": [
    "df = pd.read_csv('/content/drive/MyDrive/Colab Notebooks/TWSM Analytics Lab/storage/Tweets.csv')\n",
    "\n",
    "df.head()"
   ]
  },
  {
   "cell_type": "markdown",
   "metadata": {
    "id": "eMi7SsYBpohl"
   },
   "source": [
    "We show a count plot to see the distribution of the sentiments, however, we can see that we have an unbalanced dataset where the negative sentiment is predominant by a large margin."
   ]
  },
  {
   "cell_type": "code",
   "execution_count": 3,
   "metadata": {
    "colab": {
     "base_uri": "https://localhost:8080/",
     "height": 71
    },
    "executionInfo": {
     "elapsed": 421,
     "status": "ok",
     "timestamp": 1622498246797,
     "user": {
      "displayName": "Joshua Campos",
      "photoUrl": "https://lh3.googleusercontent.com/a-/AOh14GgNBYf7hbBqn4J1KUTIQ-AfTLBSfnvPEaVkswsDbg=s64",
      "userId": "15520650830739661074"
     },
     "user_tz": -120
    },
    "id": "Dl0fdpS0m79V",
    "outputId": "9a10ad13-28fd-4b4c-b95f-cec70b1b689a"
   },
   "outputs": [
    {
     "data": {
      "text/plain": [
       "<matplotlib.axes._subplots.AxesSubplot at 0x7f25b7a23a90>"
      ]
     },
     "execution_count": 3,
     "metadata": {
      "tags": []
     },
     "output_type": "execute_result"
    },
    {
     "data": {
      "image/png": "[encoded data removed]",
      "text/plain": [
       "<Figure size 432x288 with 1 Axes>"
      ]
     },
     "metadata": {
      "needs_background": "light",
      "tags": []
     },
     "output_type": "display_data"
    }
   ],
   "source": [
    "countplot(x='airline_sentiment', data=df)"
   ]
  },
  {
   "cell_type": "markdown",
   "metadata": {
    "id": "0jS99iqTqVlC"
   },
   "source": [
    "We clean the tweets and append the results to the dataframe. We then show the original tweets and the clean tweets to check if the preprocessing was performed correctly."
   ]
  },
  {
   "cell_type": "code",
   "execution_count": 4,
   "metadata": {
    "colab": {
     "base_uri": "https://localhost:8080/",
     "height": 204
    },
    "executionInfo": {
     "elapsed": 1541,
     "status": "ok",
     "timestamp": 1622498248335,
     "user": {
      "displayName": "Joshua Campos",
      "photoUrl": "https://lh3.googleusercontent.com/a-/AOh14GgNBYf7hbBqn4J1KUTIQ-AfTLBSfnvPEaVkswsDbg=s64",
      "userId": "15520650830739661074"
     },
     "user_tz": -120
    },
    "id": "L6Nph5fDnD34",
    "outputId": "29d3b235-fe77-411f-d1d4-f34d06ebfc3c"
   },
   "outputs": [
    {
     "data": {
      "text/html": [
       "<div>\n",
       "<style scoped>\n",
       "    .dataframe tbody tr th:only-of-type {\n",
       "        vertical-align: middle;\n",
       "    }\n",
       "\n",
       "    .dataframe tbody tr th {\n",
       "        vertical-align: top;\n",
       "    }\n",
       "\n",
       "    .dataframe thead th {\n",
       "        text-align: right;\n",
       "    }\n",
       "</style>\n",
       "<table border=\"1\" class=\"dataframe\">\n",
       "  <thead>\n",
       "    <tr style=\"text-align: right;\">\n",
       "      <th></th>\n",
       "      <th>text</th>\n",
       "      <th>prep</th>\n",
       "    </tr>\n",
       "  </thead>\n",
       "  <tbody>\n",
       "    <tr>\n",
       "      <th>0</th>\n",
       "      <td>@VirginAmerica What @dhepburn said.</td>\n",
       "      <td>What said.</td>\n",
       "    </tr>\n",
       "    <tr>\n",
       "      <th>1</th>\n",
       "      <td>@VirginAmerica plus you've added commercials t...</td>\n",
       "      <td>plus you've added commercials to the experienc...</td>\n",
       "    </tr>\n",
       "    <tr>\n",
       "      <th>2</th>\n",
       "      <td>@VirginAmerica I didn't today... Must mean I n...</td>\n",
       "      <td>I didn't today... Must mean I need to take ano...</td>\n",
       "    </tr>\n",
       "    <tr>\n",
       "      <th>3</th>\n",
       "      <td>@VirginAmerica it's really aggressive to blast...</td>\n",
       "      <td>it's really aggressive to blast obnoxious \"ent...</td>\n",
       "    </tr>\n",
       "    <tr>\n",
       "      <th>4</th>\n",
       "      <td>@VirginAmerica and it's a really big bad thing...</td>\n",
       "      <td>and it's a really big bad thing about it</td>\n",
       "    </tr>\n",
       "  </tbody>\n",
       "</table>\n",
       "</div>"
      ],
      "text/plain": [
       "                                                text                                               prep\n",
       "0                @VirginAmerica What @dhepburn said.                                         What said.\n",
       "1  @VirginAmerica plus you've added commercials t...  plus you've added commercials to the experienc...\n",
       "2  @VirginAmerica I didn't today... Must mean I n...  I didn't today... Must mean I need to take ano...\n",
       "3  @VirginAmerica it's really aggressive to blast...  it's really aggressive to blast obnoxious \"ent...\n",
       "4  @VirginAmerica and it's a really big bad thing...           and it's a really big bad thing about it"
      ]
     },
     "execution_count": 4,
     "metadata": {
      "tags": []
     },
     "output_type": "execute_result"
    }
   ],
   "source": [
    "df['prep'] = [clean(doc) for doc in df['text']]\n",
    "\n",
    "df[['text', 'prep']].head()"
   ]
  },
  {
   "cell_type": "markdown",
   "metadata": {
    "id": "1iIz0O_aqiJ2"
   },
   "source": [
    "## Part B: Sentiment Analysis with NLP Packages"
   ]
  },
  {
   "cell_type": "markdown",
   "metadata": {
    "id": "qTwXM5Cv0GdR"
   },
   "source": [
    "We use TextBlob to find the sentiment polarity of each tweet. This means that each tweet is assigned a number ranging from -1 to 1, where tweets close to -1 are negative, around 0 are neutral and close to 1 are positive. We print the basic statistics to confirm this, where we can see the value for the min and max values."
   ]
  },
  {
   "cell_type": "code",
   "execution_count": 5,
   "metadata": {
    "colab": {
     "base_uri": "https://localhost:8080/"
    },
    "executionInfo": {
     "elapsed": 3446,
     "status": "ok",
     "timestamp": 1622498251779,
     "user": {
      "displayName": "Joshua Campos",
      "photoUrl": "https://lh3.googleusercontent.com/a-/AOh14GgNBYf7hbBqn4J1KUTIQ-AfTLBSfnvPEaVkswsDbg=s64",
      "userId": "15520650830739661074"
     },
     "user_tz": -120
    },
    "id": "yhqZPaNtqnkQ",
    "outputId": "64613b16-5d2e-445b-ad05-0b3a1f242544"
   },
   "outputs": [
    {
     "data": {
      "text/plain": [
       "count    14640.000000\n",
       "mean         0.053555\n",
       "std          0.320756\n",
       "min         -1.000000\n",
       "25%          0.000000\n",
       "50%          0.000000\n",
       "75%          0.200000\n",
       "max          1.000000\n",
       "Name: sentiment_tb, dtype: float64"
      ]
     },
     "execution_count": 5,
     "metadata": {
      "tags": []
     },
     "output_type": "execute_result"
    }
   ],
   "source": [
    "df['sentiment_tb'] = df['prep'].apply(lambda tweet: TextBlob(tweet).sentiment.polarity)\n",
    "\n",
    "df['sentiment_tb'].describe()"
   ]
  },
  {
   "cell_type": "markdown",
   "metadata": {
    "id": "8pBwgowL1FuZ"
   },
   "source": [
    "We create a simple function that takes the polarity and assigns a sentiment between positive, negative or neutral. We apply this function on the polarity previously calculated and then show the dataset to check if everything worked correctly."
   ]
  },
  {
   "cell_type": "code",
   "execution_count": 6,
   "metadata": {
    "colab": {
     "base_uri": "https://localhost:8080/",
     "height": 507
    },
    "executionInfo": {
     "elapsed": 11,
     "status": "ok",
     "timestamp": 1622498251780,
     "user": {
      "displayName": "Joshua Campos",
      "photoUrl": "https://lh3.googleusercontent.com/a-/AOh14GgNBYf7hbBqn4J1KUTIQ-AfTLBSfnvPEaVkswsDbg=s64",
      "userId": "15520650830739661074"
     },
     "user_tz": -120
    },
    "id": "uPVL7IQ-rt_u",
    "outputId": "7d31ad93-cef9-4755-fefc-41aafd6b4e03"
   },
   "outputs": [
    {
     "data": {
      "text/html": [
       "<div>\n",
       "<style scoped>\n",
       "    .dataframe tbody tr th:only-of-type {\n",
       "        vertical-align: middle;\n",
       "    }\n",
       "\n",
       "    .dataframe tbody tr th {\n",
       "        vertical-align: top;\n",
       "    }\n",
       "\n",
       "    .dataframe thead th {\n",
       "        text-align: right;\n",
       "    }\n",
       "</style>\n",
       "<table border=\"1\" class=\"dataframe\">\n",
       "  <thead>\n",
       "    <tr style=\"text-align: right;\">\n",
       "      <th></th>\n",
       "      <th>sentiment_tb</th>\n",
       "      <th>sentiment_tb_desc</th>\n",
       "    </tr>\n",
       "  </thead>\n",
       "  <tbody>\n",
       "    <tr>\n",
       "      <th>0</th>\n",
       "      <td>0.000000</td>\n",
       "      <td>neutral</td>\n",
       "    </tr>\n",
       "    <tr>\n",
       "      <th>1</th>\n",
       "      <td>0.000000</td>\n",
       "      <td>neutral</td>\n",
       "    </tr>\n",
       "    <tr>\n",
       "      <th>2</th>\n",
       "      <td>-0.390625</td>\n",
       "      <td>neutral</td>\n",
       "    </tr>\n",
       "    <tr>\n",
       "      <th>3</th>\n",
       "      <td>0.006250</td>\n",
       "      <td>neutral</td>\n",
       "    </tr>\n",
       "    <tr>\n",
       "      <th>4</th>\n",
       "      <td>-0.350000</td>\n",
       "      <td>neutral</td>\n",
       "    </tr>\n",
       "    <tr>\n",
       "      <th>...</th>\n",
       "      <td>...</td>\n",
       "      <td>...</td>\n",
       "    </tr>\n",
       "    <tr>\n",
       "      <th>14635</th>\n",
       "      <td>0.000000</td>\n",
       "      <td>neutral</td>\n",
       "    </tr>\n",
       "    <tr>\n",
       "      <th>14636</th>\n",
       "      <td>-0.300000</td>\n",
       "      <td>neutral</td>\n",
       "    </tr>\n",
       "    <tr>\n",
       "      <th>14637</th>\n",
       "      <td>0.000000</td>\n",
       "      <td>neutral</td>\n",
       "    </tr>\n",
       "    <tr>\n",
       "      <th>14638</th>\n",
       "      <td>-0.125000</td>\n",
       "      <td>neutral</td>\n",
       "    </tr>\n",
       "    <tr>\n",
       "      <th>14639</th>\n",
       "      <td>0.166667</td>\n",
       "      <td>neutral</td>\n",
       "    </tr>\n",
       "  </tbody>\n",
       "</table>\n",
       "<p>14640 rows × 2 columns</p>\n",
       "</div>"
      ],
      "text/plain": [
       "       sentiment_tb sentiment_tb_desc\n",
       "0          0.000000           neutral\n",
       "1          0.000000           neutral\n",
       "2         -0.390625           neutral\n",
       "3          0.006250           neutral\n",
       "4         -0.350000           neutral\n",
       "...             ...               ...\n",
       "14635      0.000000           neutral\n",
       "14636     -0.300000           neutral\n",
       "14637      0.000000           neutral\n",
       "14638     -0.125000           neutral\n",
       "14639      0.166667           neutral\n",
       "\n",
       "[14640 rows x 2 columns]"
      ]
     },
     "execution_count": 6,
     "metadata": {
      "tags": []
     },
     "output_type": "execute_result"
    }
   ],
   "source": [
    "def label_sentiment(polarity):\n",
    "  if polarity > 0.5:\n",
    "    return 'positive'\n",
    "  elif polarity < -0.5:\n",
    "    return 'negative'\n",
    "  else:\n",
    "    return 'neutral'\n",
    "\n",
    "df['sentiment_tb_desc'] = df['sentiment_tb'].apply(lambda polarity: label_sentiment(polarity))\n",
    "\n",
    "df[['sentiment_tb', 'sentiment_tb_desc']]"
   ]
  },
  {
   "cell_type": "markdown",
   "metadata": {
    "id": "Alj02rbC1uRO"
   },
   "source": [
    "We print the classification report between the actual sentiment from the dataset and the sentiment we just calculated in the previous steps. We can see that the classifier performed poorly, even worse than randomly assigned. "
   ]
  },
  {
   "cell_type": "code",
   "execution_count": 7,
   "metadata": {
    "colab": {
     "base_uri": "https://localhost:8080/"
    },
    "executionInfo": {
     "elapsed": 301,
     "status": "ok",
     "timestamp": 1622498252071,
     "user": {
      "displayName": "Joshua Campos",
      "photoUrl": "https://lh3.googleusercontent.com/a-/AOh14GgNBYf7hbBqn4J1KUTIQ-AfTLBSfnvPEaVkswsDbg=s64",
      "userId": "15520650830739661074"
     },
     "user_tz": -120
    },
    "id": "lTNOzCEstAY-",
    "outputId": "7f8c91dd-80eb-4bd3-826e-d4401dd9be91"
   },
   "outputs": [
    {
     "name": "stdout",
     "output_type": "stream",
     "text": [
      "              precision    recall  f1-score   support\n",
      "\n",
      "    negative       0.95      0.06      0.11      9178\n",
      "     neutral       0.22      0.94      0.36      3099\n",
      "    positive       0.55      0.24      0.34      2363\n",
      "\n",
      "    accuracy                           0.27     14640\n",
      "   macro avg       0.57      0.41      0.27     14640\n",
      "weighted avg       0.73      0.27      0.20     14640\n",
      "\n"
     ]
    }
   ],
   "source": [
    "print(classification_report(df['airline_sentiment'], df['sentiment_tb_desc']))"
   ]
  },
  {
   "cell_type": "markdown",
   "metadata": {
    "id": "dY-7HMRh2KwP"
   },
   "source": [
    "We show three plots to see the distribution of the calculated polarities for each real sentiment category. Through these plots we can see why the classifier performed so badly; the calculated polarities do not really identify the actual sentiment of the tweet. It is more noticeable on the negative tweets, where we can see that the polarities range almost from -1 to +1. "
   ]
  },
  {
   "cell_type": "code",
   "execution_count": 8,
   "metadata": {
    "colab": {
     "base_uri": "https://localhost:8080/",
     "height": 173
    },
    "executionInfo": {
     "elapsed": 1069,
     "status": "ok",
     "timestamp": 1622498253137,
     "user": {
      "displayName": "Joshua Campos",
      "photoUrl": "https://lh3.googleusercontent.com/a-/AOh14GgNBYf7hbBqn4J1KUTIQ-AfTLBSfnvPEaVkswsDbg=s64",
      "userId": "15520650830739661074"
     },
     "user_tz": -120
    },
    "id": "L5jpZjAjtl1Q",
    "outputId": "2f0e2e16-d7ce-4cdc-e14d-7b9c67f4a7b6"
   },
   "outputs": [
    {
     "name": "stderr",
     "output_type": "stream",
     "text": [
      "/usr/local/lib/python3.7/dist-packages/seaborn/distributions.py:2557: FutureWarning: `distplot` is a deprecated function and will be removed in a future version. Please adapt your code to use either `displot` (a figure-level function with similar flexibility) or `histplot` (an axes-level function for histograms).\n",
      "  warnings.warn(msg, FutureWarning)\n",
      "/usr/local/lib/python3.7/dist-packages/seaborn/distributions.py:2557: FutureWarning: `distplot` is a deprecated function and will be removed in a future version. Please adapt your code to use either `displot` (a figure-level function with similar flexibility) or `histplot` (an axes-level function for histograms).\n",
      "  warnings.warn(msg, FutureWarning)\n",
      "/usr/local/lib/python3.7/dist-packages/seaborn/distributions.py:2557: FutureWarning: `distplot` is a deprecated function and will be removed in a future version. Please adapt your code to use either `displot` (a figure-level function with similar flexibility) or `histplot` (an axes-level function for histograms).\n",
      "  warnings.warn(msg, FutureWarning)\n"
     ]
    },
    {
     "data": {
      "text/plain": [
       "<matplotlib.axes._subplots.AxesSubplot at 0x7f25b7083850>"
      ]
     },
     "execution_count": 8,
     "metadata": {
      "tags": []
     },
     "output_type": "execute_result"
    },
    {
     "data": {
      "image/png": "[encoded data removed]",
      "text/plain": [
       "<Figure size 1000x400 with 3 Axes>"
      ]
     },
     "metadata": {
      "needs_background": "light",
      "tags": []
     },
     "output_type": "display_data"
    }
   ],
   "source": [
    "fig, axes = plt.subplots(1, 3, figsize=(10, 4), sharey=True, dpi=100)\n",
    "\n",
    "distplot(df.loc[df.airline_sentiment == 'positive', 'sentiment_tb'], color='green', ax=axes[0], axlabel='positive')\n",
    "distplot(df.loc[df.airline_sentiment == 'negative', 'sentiment_tb'], color='red', ax=axes[1], axlabel='negative')\n",
    "distplot(df.loc[df.airline_sentiment == 'neutral', 'sentiment_tb'], color='gold', ax=axes[2], axlabel='neutral')"
   ]
  },
  {
   "cell_type": "markdown",
   "metadata": {
    "id": "F4dG9QCmJYMe"
   },
   "source": [
    "We use SentimentIntensityAnalyzer to calculate the sentiment polarities, which range from -1 to +1 like the previous calculations. We show the basic statistics of the calculation, where we can actually see a difference in the min and max values, as well as the lower and upper quartiles."
   ]
  },
  {
   "cell_type": "code",
   "execution_count": 9,
   "metadata": {
    "colab": {
     "base_uri": "https://localhost:8080/"
    },
    "executionInfo": {
     "elapsed": 3110,
     "status": "ok",
     "timestamp": 1622498256244,
     "user": {
      "displayName": "Joshua Campos",
      "photoUrl": "https://lh3.googleusercontent.com/a-/AOh14GgNBYf7hbBqn4J1KUTIQ-AfTLBSfnvPEaVkswsDbg=s64",
      "userId": "15520650830739661074"
     },
     "user_tz": -120
    },
    "id": "-bptiVx7v3iQ",
    "outputId": "da100aab-80a6-4033-8661-2b36318b8ee7"
   },
   "outputs": [
    {
     "data": {
      "text/plain": [
       "count    14640.000000\n",
       "mean         0.051338\n",
       "std          0.452522\n",
       "min         -0.966800\n",
       "25%         -0.296000\n",
       "50%          0.000000\n",
       "75%          0.421500\n",
       "max          0.976000\n",
       "Name: sentiment_vd, dtype: float64"
      ]
     },
     "execution_count": 9,
     "metadata": {
      "tags": []
     },
     "output_type": "execute_result"
    }
   ],
   "source": [
    "sid = SentimentIntensityAnalyzer()\n",
    "\n",
    "df['sentiment_vd'] = df['prep'].apply(lambda tweet: sid.polarity_scores(tweet)['compound'])\n",
    "df['sentiment_vd'].describe()"
   ]
  },
  {
   "cell_type": "markdown",
   "metadata": {
    "id": "nytKwx4tKLGX"
   },
   "source": [
    "Using the same simple function that we defined previously, we transform the polarity to the positive, negative and neutral labels. We then show the results to see if it worked correctly."
   ]
  },
  {
   "cell_type": "code",
   "execution_count": 10,
   "metadata": {
    "colab": {
     "base_uri": "https://localhost:8080/",
     "height": 507
    },
    "executionInfo": {
     "elapsed": 5,
     "status": "ok",
     "timestamp": 1622498256245,
     "user": {
      "displayName": "Joshua Campos",
      "photoUrl": "https://lh3.googleusercontent.com/a-/AOh14GgNBYf7hbBqn4J1KUTIQ-AfTLBSfnvPEaVkswsDbg=s64",
      "userId": "15520650830739661074"
     },
     "user_tz": -120
    },
    "id": "Zqh7VZnUwV52",
    "outputId": "8449674a-84ca-4f87-a0d1-5efe33b22500"
   },
   "outputs": [
    {
     "data": {
      "text/html": [
       "<div>\n",
       "<style scoped>\n",
       "    .dataframe tbody tr th:only-of-type {\n",
       "        vertical-align: middle;\n",
       "    }\n",
       "\n",
       "    .dataframe tbody tr th {\n",
       "        vertical-align: top;\n",
       "    }\n",
       "\n",
       "    .dataframe thead th {\n",
       "        text-align: right;\n",
       "    }\n",
       "</style>\n",
       "<table border=\"1\" class=\"dataframe\">\n",
       "  <thead>\n",
       "    <tr style=\"text-align: right;\">\n",
       "      <th></th>\n",
       "      <th>sentiment_vd</th>\n",
       "      <th>sentiment_vd_desc</th>\n",
       "    </tr>\n",
       "  </thead>\n",
       "  <tbody>\n",
       "    <tr>\n",
       "      <th>0</th>\n",
       "      <td>0.0000</td>\n",
       "      <td>neutral</td>\n",
       "    </tr>\n",
       "    <tr>\n",
       "      <th>1</th>\n",
       "      <td>0.0000</td>\n",
       "      <td>neutral</td>\n",
       "    </tr>\n",
       "    <tr>\n",
       "      <th>2</th>\n",
       "      <td>0.0000</td>\n",
       "      <td>neutral</td>\n",
       "    </tr>\n",
       "    <tr>\n",
       "      <th>3</th>\n",
       "      <td>-0.5984</td>\n",
       "      <td>negative</td>\n",
       "    </tr>\n",
       "    <tr>\n",
       "      <th>4</th>\n",
       "      <td>-0.5829</td>\n",
       "      <td>negative</td>\n",
       "    </tr>\n",
       "    <tr>\n",
       "      <th>...</th>\n",
       "      <td>...</td>\n",
       "      <td>...</td>\n",
       "    </tr>\n",
       "    <tr>\n",
       "      <th>14635</th>\n",
       "      <td>0.3612</td>\n",
       "      <td>neutral</td>\n",
       "    </tr>\n",
       "    <tr>\n",
       "      <th>14636</th>\n",
       "      <td>-0.7906</td>\n",
       "      <td>negative</td>\n",
       "    </tr>\n",
       "    <tr>\n",
       "      <th>14637</th>\n",
       "      <td>0.3182</td>\n",
       "      <td>neutral</td>\n",
       "    </tr>\n",
       "    <tr>\n",
       "      <th>14638</th>\n",
       "      <td>0.5027</td>\n",
       "      <td>positive</td>\n",
       "    </tr>\n",
       "    <tr>\n",
       "      <th>14639</th>\n",
       "      <td>0.0772</td>\n",
       "      <td>neutral</td>\n",
       "    </tr>\n",
       "  </tbody>\n",
       "</table>\n",
       "<p>14640 rows × 2 columns</p>\n",
       "</div>"
      ],
      "text/plain": [
       "       sentiment_vd sentiment_vd_desc\n",
       "0            0.0000           neutral\n",
       "1            0.0000           neutral\n",
       "2            0.0000           neutral\n",
       "3           -0.5984          negative\n",
       "4           -0.5829          negative\n",
       "...             ...               ...\n",
       "14635        0.3612           neutral\n",
       "14636       -0.7906          negative\n",
       "14637        0.3182           neutral\n",
       "14638        0.5027          positive\n",
       "14639        0.0772           neutral\n",
       "\n",
       "[14640 rows x 2 columns]"
      ]
     },
     "execution_count": 10,
     "metadata": {
      "tags": []
     },
     "output_type": "execute_result"
    }
   ],
   "source": [
    "df['sentiment_vd_desc'] = df['sentiment_vd'].apply(lambda polarity: label_sentiment(polarity))\n",
    "\n",
    "df[['sentiment_vd', 'sentiment_vd_desc']]"
   ]
  },
  {
   "cell_type": "markdown",
   "metadata": {
    "id": "KsW2i8GaKXx3"
   },
   "source": [
    "We print the classification report between the real sentiment and the one we just calculated in the previous step. We can see that the classifier did not perform very well, but it did outperform the previous classifier. We can also notice that it performed slightly better than random labeling.  "
   ]
  },
  {
   "cell_type": "code",
   "execution_count": 11,
   "metadata": {
    "colab": {
     "base_uri": "https://localhost:8080/"
    },
    "executionInfo": {
     "elapsed": 319,
     "status": "ok",
     "timestamp": 1622498256560,
     "user": {
      "displayName": "Joshua Campos",
      "photoUrl": "https://lh3.googleusercontent.com/a-/AOh14GgNBYf7hbBqn4J1KUTIQ-AfTLBSfnvPEaVkswsDbg=s64",
      "userId": "15520650830739661074"
     },
     "user_tz": -120
    },
    "id": "XjWvmjSswuEh",
    "outputId": "2774ea0a-c0a6-4a6c-dcee-874033fd770e"
   },
   "outputs": [
    {
     "name": "stdout",
     "output_type": "stream",
     "text": [
      "              precision    recall  f1-score   support\n",
      "\n",
      "    negative       0.95      0.21      0.34      9178\n",
      "     neutral       0.26      0.81      0.39      3099\n",
      "    positive       0.49      0.58      0.53      2363\n",
      "\n",
      "    accuracy                           0.40     14640\n",
      "   macro avg       0.56      0.53      0.42     14640\n",
      "weighted avg       0.73      0.40      0.38     14640\n",
      "\n"
     ]
    }
   ],
   "source": [
    "print(classification_report(df['airline_sentiment'], df['sentiment_vd_desc']))"
   ]
  },
  {
   "cell_type": "markdown",
   "metadata": {
    "id": "omsX0wGyLxXk"
   },
   "source": [
    "We show the same three plots to see the distribution of the calculated polarities for each of the sentiment categories. We can see that also the polarities did not identify very well the sentiments, however, we do see that the density if less, so in general, there were less missclassifications. "
   ]
  },
  {
   "cell_type": "code",
   "execution_count": 12,
   "metadata": {
    "colab": {
     "base_uri": "https://localhost:8080/",
     "height": 173
    },
    "executionInfo": {
     "elapsed": 826,
     "status": "ok",
     "timestamp": 1622498257384,
     "user": {
      "displayName": "Joshua Campos",
      "photoUrl": "https://lh3.googleusercontent.com/a-/AOh14GgNBYf7hbBqn4J1KUTIQ-AfTLBSfnvPEaVkswsDbg=s64",
      "userId": "15520650830739661074"
     },
     "user_tz": -120
    },
    "id": "VmB3ZUT2w3OY",
    "outputId": "0d69a154-b3da-454e-d857-588edfbb884f"
   },
   "outputs": [
    {
     "name": "stderr",
     "output_type": "stream",
     "text": [
      "/usr/local/lib/python3.7/dist-packages/seaborn/distributions.py:2557: FutureWarning: `distplot` is a deprecated function and will be removed in a future version. Please adapt your code to use either `displot` (a figure-level function with similar flexibility) or `histplot` (an axes-level function for histograms).\n",
      "  warnings.warn(msg, FutureWarning)\n",
      "/usr/local/lib/python3.7/dist-packages/seaborn/distributions.py:2557: FutureWarning: `distplot` is a deprecated function and will be removed in a future version. Please adapt your code to use either `displot` (a figure-level function with similar flexibility) or `histplot` (an axes-level function for histograms).\n",
      "  warnings.warn(msg, FutureWarning)\n",
      "/usr/local/lib/python3.7/dist-packages/seaborn/distributions.py:2557: FutureWarning: `distplot` is a deprecated function and will be removed in a future version. Please adapt your code to use either `displot` (a figure-level function with similar flexibility) or `histplot` (an axes-level function for histograms).\n",
      "  warnings.warn(msg, FutureWarning)\n"
     ]
    },
    {
     "data": {
      "text/plain": [
       "<matplotlib.axes._subplots.AxesSubplot at 0x7f25b724d650>"
      ]
     },
     "execution_count": 12,
     "metadata": {
      "tags": []
     },
     "output_type": "execute_result"
    },
    {
     "data": {
      "image/png": "[encoded data removed]",
      "text/plain": [
       "<Figure size 1000x400 with 3 Axes>"
      ]
     },
     "metadata": {
      "needs_background": "light",
      "tags": []
     },
     "output_type": "display_data"
    }
   ],
   "source": [
    "fig, axes = plt.subplots(1, 3, figsize=(10, 4), sharey=True, dpi=100)\n",
    "\n",
    "distplot(df.loc[df.airline_sentiment == 'positive', 'sentiment_vd'], color='green', ax=axes[0], axlabel='positive')\n",
    "distplot(df.loc[df.airline_sentiment == 'negative', 'sentiment_vd'], color='red', ax=axes[1], axlabel='negative')\n",
    "distplot(df.loc[df.airline_sentiment == 'neutral', 'sentiment_vd'], color='gold', ax=axes[2], axlabel='neutral')"
   ]
  },
  {
   "cell_type": "markdown",
   "metadata": {
    "id": "YiiZ3JIhxHcq"
   },
   "source": [
    "## Part C: Supervised Sentiment Classifier"
   ]
  },
  {
   "cell_type": "markdown",
   "metadata": {
    "id": "PY-BgsbBS6lb"
   },
   "source": [
    "We want to see if a supervised machine learning model would perform better than the previous classifiers. In order to do this, we define a TF-IDF Vectorizer object with 'max_df' of 0.99 and 'min_df' of 0.01, so it removes all words that appear in more than 99% and less than 1% of documents. We also tell the vectorizer to remove all English stopwords. We then fit and transform the vectorizer to our clean tweets."
   ]
  },
  {
   "cell_type": "code",
   "execution_count": 13,
   "metadata": {
    "executionInfo": {
     "elapsed": 252,
     "status": "ok",
     "timestamp": 1622498257634,
     "user": {
      "displayName": "Joshua Campos",
      "photoUrl": "https://lh3.googleusercontent.com/a-/AOh14GgNBYf7hbBqn4J1KUTIQ-AfTLBSfnvPEaVkswsDbg=s64",
      "userId": "15520650830739661074"
     },
     "user_tz": -120
    },
    "id": "TZKWTtomw8XM"
   },
   "outputs": [],
   "source": [
    "vectorizer = TfidfVectorizer(max_df=0.99, min_df=0.01, stop_words='english')\n",
    "tf = vectorizer.fit_transform(df['prep'])"
   ]
  },
  {
   "cell_type": "markdown",
   "metadata": {
    "id": "fSRHQQt9USJf"
   },
   "source": [
    "We split our transformed data into training and testing sets, using the airline sentiment as target variable. We also define the testing set size to be 20% of the whole size of the data. "
   ]
  },
  {
   "cell_type": "code",
   "execution_count": 14,
   "metadata": {
    "executionInfo": {
     "elapsed": 3,
     "status": "ok",
     "timestamp": 1622498257634,
     "user": {
      "displayName": "Joshua Campos",
      "photoUrl": "https://lh3.googleusercontent.com/a-/AOh14GgNBYf7hbBqn4J1KUTIQ-AfTLBSfnvPEaVkswsDbg=s64",
      "userId": "15520650830739661074"
     },
     "user_tz": -120
    },
    "id": "F4zEL2lZN1Cq"
   },
   "outputs": [],
   "source": [
    "X_train, X_test, y_train, y_test = train_test_split(tf, df['airline_sentiment'], test_size=0.2, random_state = 12)"
   ]
  },
  {
   "cell_type": "markdown",
   "metadata": {
    "id": "hqT6Wf7dUj9W"
   },
   "source": [
    "We create a parameter grid with several different parameters, since we are going to do a grid search to find the optimal ones for our model. We decided to use a Random Forest classifier, so we will try different values for the minimum samples per leaf and the number of estimators. \n",
    "\n",
    "We then create a GridSearchCV object and pass it our Random Forest classifier, as well as the parameter grid. We also choose to use a 3-fold cross-validation. Finally, we train our Random Forest classifier with our training data."
   ]
  },
  {
   "cell_type": "code",
   "execution_count": 15,
   "metadata": {
    "colab": {
     "base_uri": "https://localhost:8080/"
    },
    "executionInfo": {
     "elapsed": 281276,
     "status": "ok",
     "timestamp": 1622498538908,
     "user": {
      "displayName": "Joshua Campos",
      "photoUrl": "https://lh3.googleusercontent.com/a-/AOh14GgNBYf7hbBqn4J1KUTIQ-AfTLBSfnvPEaVkswsDbg=s64",
      "userId": "15520650830739661074"
     },
     "user_tz": -120
    },
    "id": "SEkOpOd2OfX-",
    "outputId": "479baf6d-68c9-477d-feda-0dbaa139d140"
   },
   "outputs": [
    {
     "data": {
      "text/plain": [
       "GridSearchCV(cv=3, error_score=nan,\n",
       "             estimator=RandomForestClassifier(bootstrap=True, ccp_alpha=0.0,\n",
       "                                              class_weight=None,\n",
       "                                              criterion='gini', max_depth=None,\n",
       "                                              max_features='auto',\n",
       "                                              max_leaf_nodes=None,\n",
       "                                              max_samples=None,\n",
       "                                              min_impurity_decrease=0.0,\n",
       "                                              min_impurity_split=None,\n",
       "                                              min_samples_leaf=1,\n",
       "                                              min_samples_split=2,\n",
       "                                              min_weight_fraction_leaf=0.0,\n",
       "                                              n_estimators=100, n_jobs=None,\n",
       "                                              oob_score=False, random_state=42,\n",
       "                                              verbose=0, warm_start=False),\n",
       "             iid='deprecated', n_jobs=None,\n",
       "             param_grid={'min_samples_leaf': [2, 3, 4, 5],\n",
       "                         'n_estimators': [10, 50, 100, 200, 300, 1000]},\n",
       "             pre_dispatch='2*n_jobs', refit=True, return_train_score=False,\n",
       "             scoring=None, verbose=0)"
      ]
     },
     "execution_count": 15,
     "metadata": {
      "tags": []
     },
     "output_type": "execute_result"
    }
   ],
   "source": [
    "param_grid = {'min_samples_leaf': [2, 3, 4, 5], 'n_estimators': [10, 50, 100, 200, 300, 1000]}\n",
    "\n",
    "rf = RandomForestClassifier(random_state=42)\n",
    "\n",
    "cv = GridSearchCV(rf, param_grid=param_grid, cv=3)\n",
    "cv.fit(X_train, y_train)"
   ]
  },
  {
   "cell_type": "markdown",
   "metadata": {
    "id": "eM4TrS8CVTQi"
   },
   "source": [
    "We print the best parameters to check which performed the best. We then also use the best performing estimator to predict on our testing set and print the classification report to see how our model performed. It looks like it did quite well, at least much better than the previous classifiers."
   ]
  },
  {
   "cell_type": "code",
   "execution_count": 16,
   "metadata": {
    "colab": {
     "base_uri": "https://localhost:8080/"
    },
    "executionInfo": {
     "elapsed": 311,
     "status": "ok",
     "timestamp": 1622498539210,
     "user": {
      "displayName": "Joshua Campos",
      "photoUrl": "https://lh3.googleusercontent.com/a-/AOh14GgNBYf7hbBqn4J1KUTIQ-AfTLBSfnvPEaVkswsDbg=s64",
      "userId": "15520650830739661074"
     },
     "user_tz": -120
    },
    "id": "Mr8fNB19PGwr",
    "outputId": "43908476-7d60-4723-f0bb-db15d61520ff"
   },
   "outputs": [
    {
     "name": "stdout",
     "output_type": "stream",
     "text": [
      "{'min_samples_leaf': 3, 'n_estimators': 300}\n",
      "              precision    recall  f1-score   support\n",
      "\n",
      "    negative       0.78      0.87      0.82      1876\n",
      "     neutral       0.49      0.42      0.45       569\n",
      "    positive       0.71      0.51      0.59       483\n",
      "\n",
      "    accuracy                           0.72      2928\n",
      "   macro avg       0.66      0.60      0.62      2928\n",
      "weighted avg       0.71      0.72      0.71      2928\n",
      "\n"
     ]
    }
   ],
   "source": [
    "print(cv.best_params_)\n",
    "y_pred = cv.best_estimator_.predict(X_test)\n",
    "\n",
    "print(classification_report(y_test, y_pred))"
   ]
  },
  {
   "cell_type": "markdown",
   "metadata": {
    "id": "AU6ZKE0UVnnm"
   },
   "source": [
    "## Part D: Unsupervised Sentiment Classifier"
   ]
  },
  {
   "cell_type": "markdown",
   "metadata": {
    "id": "v4Y9JWr2ZHLf"
   },
   "source": [
    "We will now train an unsupervised machine learning model. We first start by getting the features identified by the TF-IDF vectorizer and then create a dataframe with the representation and the features as columns. We define a KMeans object for three clusters and max iteration of 200 until stopping. We then fit the KMeans model to our recently created dataframe."
   ]
  },
  {
   "cell_type": "code",
   "execution_count": 17,
   "metadata": {
    "colab": {
     "base_uri": "https://localhost:8080/"
    },
    "executionInfo": {
     "elapsed": 1581,
     "status": "ok",
     "timestamp": 1622498540790,
     "user": {
      "displayName": "Joshua Campos",
      "photoUrl": "https://lh3.googleusercontent.com/a-/AOh14GgNBYf7hbBqn4J1KUTIQ-AfTLBSfnvPEaVkswsDbg=s64",
      "userId": "15520650830739661074"
     },
     "user_tz": -120
    },
    "id": "iEVAhKiVR2Wr",
    "outputId": "e4970fd7-e116-4da1-8de1-79a9450c53e5"
   },
   "outputs": [
    {
     "data": {
      "text/plain": [
       "KMeans(algorithm='auto', copy_x=True, init='k-means++', max_iter=200,\n",
       "       n_clusters=3, n_init=10, n_jobs=None, precompute_distances='auto',\n",
       "       random_state=None, tol=0.0001, verbose=0)"
      ]
     },
     "execution_count": 17,
     "metadata": {
      "tags": []
     },
     "output_type": "execute_result"
    }
   ],
   "source": [
    "words = vectorizer.get_feature_names()\n",
    "tf_df = pd.DataFrame(tf.toarray(), columns=words)\n",
    "\n",
    "kmeans = KMeans(n_clusters=3, max_iter=200)\n",
    "kmeans.fit(tf_df)"
   ]
  },
  {
   "cell_type": "markdown",
   "metadata": {
    "id": "Fqc0RRCAZ-5E"
   },
   "source": [
    "We want to see if the clusters make sense to the sentiments. For this, we print the top 10 most representative words for each cluster and notice that cluster zero might be neutral, cluster one might be positive and cluster two might be negative."
   ]
  },
  {
   "cell_type": "code",
   "execution_count": 18,
   "metadata": {
    "colab": {
     "base_uri": "https://localhost:8080/"
    },
    "executionInfo": {
     "elapsed": 7,
     "status": "ok",
     "timestamp": 1622498540790,
     "user": {
      "displayName": "Joshua Campos",
      "photoUrl": "https://lh3.googleusercontent.com/a-/AOh14GgNBYf7hbBqn4J1KUTIQ-AfTLBSfnvPEaVkswsDbg=s64",
      "userId": "15520650830739661074"
     },
     "user_tz": -120
    },
    "id": "1lpUL9HhV62Y",
    "outputId": "ed416829-c31e-44ea-f337-db1f2c9fcf37"
   },
   "outputs": [
    {
     "name": "stdout",
     "output_type": "stream",
     "text": [
      "0:thank,service,just,customer,help,flights,time,plane,amp,hold\n",
      "1:flight,cancelled,flightled,delayed,late,hours,time,help,just,flighted\n",
      "2:thanks,flight,just,great,service,help,got,response,guys,time\n"
     ]
    }
   ],
   "source": [
    "common_words = kmeans.cluster_centers_.argsort()[:, -1: -11: -1]\n",
    "\n",
    "for num, centroid in enumerate(common_words):\n",
    "  print(str(num) + ':' + ','.join(words[word] for word in centroid))"
   ]
  },
  {
   "cell_type": "markdown",
   "metadata": {
    "id": "0q06mkQsab3H"
   },
   "source": [
    "We create another simple function to label the clusters from what we found out in the previous step. If the cluster is zero, then it is neutral, if it is one, then it is positive and if it is two, then it is negative. We then apply this function to the labels from the KMeans model to get a dataframe with the sentiments. We show this dataframe to check that it makes sense."
   ]
  },
  {
   "cell_type": "code",
   "execution_count": 21,
   "metadata": {
    "colab": {
     "base_uri": "https://localhost:8080/"
    },
    "executionInfo": {
     "elapsed": 338,
     "status": "ok",
     "timestamp": 1622499709373,
     "user": {
      "displayName": "Joshua Campos",
      "photoUrl": "https://lh3.googleusercontent.com/a-/AOh14GgNBYf7hbBqn4J1KUTIQ-AfTLBSfnvPEaVkswsDbg=s64",
      "userId": "15520650830739661074"
     },
     "user_tz": -120
    },
    "id": "2JhiUnt4WB5D",
    "outputId": "b6a580fc-5195-4a12-ced9-16d4c489026e"
   },
   "outputs": [
    {
     "data": {
      "text/plain": [
       "0         neutral\n",
       "1         neutral\n",
       "2         neutral\n",
       "3         neutral\n",
       "4         neutral\n",
       "           ...   \n",
       "14635    negative\n",
       "14636    negative\n",
       "14637     neutral\n",
       "14638    negative\n",
       "14639    negative\n",
       "Name: sentiment, Length: 14640, dtype: object"
      ]
     },
     "execution_count": 21,
     "metadata": {
      "tags": []
     },
     "output_type": "execute_result"
    }
   ],
   "source": [
    "def label_cluster(cluster):\n",
    "  if cluster == 0:\n",
    "    return 'neutral'\n",
    "  elif cluster == 1:\n",
    "    return 'negative'\n",
    "  else:\n",
    "    return 'positive'\n",
    "\n",
    "cluster_sentiment = pd.DataFrame(kmeans.labels_, columns=['sentiment'])['sentiment'].apply(lambda sentiment: label_cluster(sentiment))\n",
    "cluster_sentiment"
   ]
  },
  {
   "cell_type": "markdown",
   "metadata": {
    "id": "2zjNpzbLa1cT"
   },
   "source": [
    "We then print the classification report to see how our unsupervised machine learning model performed by using the real sentiment and the cluster sentiment we just calculated. It looks like the model did not perform well either, but it did perform similarly to the SentimentIntensityAnalyzer. "
   ]
  },
  {
   "cell_type": "code",
   "execution_count": 22,
   "metadata": {
    "colab": {
     "base_uri": "https://localhost:8080/"
    },
    "executionInfo": {
     "elapsed": 353,
     "status": "ok",
     "timestamp": 1622499709722,
     "user": {
      "displayName": "Joshua Campos",
      "photoUrl": "https://lh3.googleusercontent.com/a-/AOh14GgNBYf7hbBqn4J1KUTIQ-AfTLBSfnvPEaVkswsDbg=s64",
      "userId": "15520650830739661074"
     },
     "user_tz": -120
    },
    "id": "oCCuiey_YCEU",
    "outputId": "10413b92-7ea0-4294-8c3b-8944e4755cb7"
   },
   "outputs": [
    {
     "name": "stdout",
     "output_type": "stream",
     "text": [
      "              precision    recall  f1-score   support\n",
      "\n",
      "    negative       0.76      0.25      0.38      9178\n",
      "     neutral       0.23      0.79      0.36      3099\n",
      "    positive       0.58      0.24      0.34      2363\n",
      "\n",
      "    accuracy                           0.36     14640\n",
      "   macro avg       0.52      0.43      0.36     14640\n",
      "weighted avg       0.62      0.36      0.37     14640\n",
      "\n"
     ]
    }
   ],
   "source": [
    "print(classification_report(df['airline_sentiment'], cluster_sentiment))"
   ]
  }
 ],
 "metadata": {
  "colab": {
   "authorship_tag": "ABX9TyPns1WHoG3oGn90IjKld72y",
   "collapsed_sections": [],
   "mount_file_id": "1WfeYMzdfjwBDpWhEGySLi0NBqSKtEqqq",
   "name": "7_TextAnalyticsInSocialMedia.ipynb",
   "provenance": [],
   "toc_visible": true
  },
  "kernelspec": {
   "display_name": "Python 3",
   "language": "python",
   "name": "python3"
  },
  "language_info": {
   "codemirror_mode": {
    "name": "ipython",
    "version": 3
   },
   "file_extension": ".py",
   "mimetype": "text/x-python",
   "name": "python",
   "nbconvert_exporter": "python",
   "pygments_lexer": "ipython3",
   "version": "3.8.8"
  }
 },
 "nbformat": 4,
 "nbformat_minor": 1
}
