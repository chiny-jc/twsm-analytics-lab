{
 "cells": [
  {
   "cell_type": "markdown",
   "metadata": {
    "id": "q765NHN1Ogpd"
   },
   "source": [
    "# Exercise 2. Preprocessing\n",
    "### Text, Web and Social Media Analytics Lab "
   ]
  },
  {
   "cell_type": "markdown",
   "metadata": {
    "id": "E_kSpylu01PI"
   },
   "source": [
    "In this exercise, we will be using the 20-Newsgroups dataset. This version of the dataset contains about 11k newsgroups posts from 20 different topics. We will do following steps:\n",
    "- A) Import and examine data\n",
    "- B) Remove initial text metadata\n",
    "- C) Remove numbers, punctuation, tabs and convert to lower case with gensim\n",
    "- D) Remove stop words and short words\n",
    "- E) Stemming and Lematization"
   ]
  },
  {
   "cell_type": "markdown",
   "metadata": {
    "id": "HK3OeAC01s-m"
   },
   "source": [
    "We first import all the necessary libraries."
   ]
  },
  {
   "cell_type": "code",
   "execution_count": 1,
   "metadata": {
    "colab": {
     "base_uri": "https://localhost:8080/"
    },
    "executionInfo": {
     "elapsed": 2076,
     "status": "ok",
     "timestamp": 1618825296946,
     "user": {
      "displayName": "Joshua Campos",
      "photoUrl": "https://lh3.googleusercontent.com/a-/AOh14GgNBYf7hbBqn4J1KUTIQ-AfTLBSfnvPEaVkswsDbg=s64",
      "userId": "15520650830739661074"
     },
     "user_tz": -120
    },
    "id": "WPqVqPMsxZxT",
    "outputId": "a8a9c1cc-1560-4040-c01b-509959f302d0"
   },
   "outputs": [
    {
     "name": "stdout",
     "output_type": "stream",
     "text": [
      "[nltk_data] Downloading package stopwords to /root/nltk_data...\n",
      "[nltk_data]   Package stopwords is already up-to-date!\n"
     ]
    }
   ],
   "source": [
    "import pandas as pd\n",
    "import re\n",
    "from gensim.parsing.preprocessing import STOPWORDS, strip_tags, strip_numeric, strip_punctuation, strip_multiple_whitespaces, remove_stopwords, strip_short, stem_text\n",
    "import pickle\n",
    "import en_core_web_sm\n",
    "import nltk\n",
    "nltk.download('stopwords')\n",
    "from nltk.corpus import stopwords"
   ]
  },
  {
   "cell_type": "markdown",
   "metadata": {
    "id": "28wfBHm8ObXH"
   },
   "source": [
    "## Part A: Import and examine data"
   ]
  },
  {
   "cell_type": "markdown",
   "metadata": {
    "id": "BNQ-Nddf15oY"
   },
   "source": [
    "We read the json file from the URL and we then show the head of the dataframe to understand how our data looks like."
   ]
  },
  {
   "cell_type": "code",
   "execution_count": 2,
   "metadata": {
    "colab": {
     "base_uri": "https://localhost:8080/",
     "height": 204
    },
    "executionInfo": {
     "elapsed": 4339,
     "status": "ok",
     "timestamp": 1618825299215,
     "user": {
      "displayName": "Joshua Campos",
      "photoUrl": "https://lh3.googleusercontent.com/a-/AOh14GgNBYf7hbBqn4J1KUTIQ-AfTLBSfnvPEaVkswsDbg=s64",
      "userId": "15520650830739661074"
     },
     "user_tz": -120
    },
    "id": "JgrV1e45yPV2",
    "outputId": "83e5e97e-e159-411c-9be4-84cce875a043"
   },
   "outputs": [
    {
     "data": {
      "text/html": [
       "<div>\n",
       "<style scoped>\n",
       "    .dataframe tbody tr th:only-of-type {\n",
       "        vertical-align: middle;\n",
       "    }\n",
       "\n",
       "    .dataframe tbody tr th {\n",
       "        vertical-align: top;\n",
       "    }\n",
       "\n",
       "    .dataframe thead th {\n",
       "        text-align: right;\n",
       "    }\n",
       "</style>\n",
       "<table border=\"1\" class=\"dataframe\">\n",
       "  <thead>\n",
       "    <tr style=\"text-align: right;\">\n",
       "      <th></th>\n",
       "      <th>content</th>\n",
       "      <th>target</th>\n",
       "      <th>target_names</th>\n",
       "    </tr>\n",
       "  </thead>\n",
       "  <tbody>\n",
       "    <tr>\n",
       "      <th>0</th>\n",
       "      <td>From: lerxst@wam.umd.edu (where's my thing)\\nS...</td>\n",
       "      <td>7</td>\n",
       "      <td>rec.autos</td>\n",
       "    </tr>\n",
       "    <tr>\n",
       "      <th>1</th>\n",
       "      <td>From: guykuo@carson.u.washington.edu (Guy Kuo)...</td>\n",
       "      <td>4</td>\n",
       "      <td>comp.sys.mac.hardware</td>\n",
       "    </tr>\n",
       "    <tr>\n",
       "      <th>2</th>\n",
       "      <td>From: twillis@ec.ecn.purdue.edu (Thomas E Will...</td>\n",
       "      <td>4</td>\n",
       "      <td>comp.sys.mac.hardware</td>\n",
       "    </tr>\n",
       "    <tr>\n",
       "      <th>3</th>\n",
       "      <td>From: jgreen@amber (Joe Green)\\nSubject: Re: W...</td>\n",
       "      <td>1</td>\n",
       "      <td>comp.graphics</td>\n",
       "    </tr>\n",
       "    <tr>\n",
       "      <th>4</th>\n",
       "      <td>From: jcm@head-cfa.harvard.edu (Jonathan McDow...</td>\n",
       "      <td>14</td>\n",
       "      <td>sci.space</td>\n",
       "    </tr>\n",
       "  </tbody>\n",
       "</table>\n",
       "</div>"
      ],
      "text/plain": [
       "                                             content  ...           target_names\n",
       "0  From: lerxst@wam.umd.edu (where's my thing)\\nS...  ...              rec.autos\n",
       "1  From: guykuo@carson.u.washington.edu (Guy Kuo)...  ...  comp.sys.mac.hardware\n",
       "2  From: twillis@ec.ecn.purdue.edu (Thomas E Will...  ...  comp.sys.mac.hardware\n",
       "3  From: jgreen@amber (Joe Green)\\nSubject: Re: W...  ...          comp.graphics\n",
       "4  From: jcm@head-cfa.harvard.edu (Jonathan McDow...  ...              sci.space\n",
       "\n",
       "[5 rows x 3 columns]"
      ]
     },
     "execution_count": 2,
     "metadata": {
      "tags": []
     },
     "output_type": "execute_result"
    }
   ],
   "source": [
    "df = pd.read_json('https://raw.githubusercontent.com/selva86/datasets/master/newsgroups.json')\n",
    "df.head()"
   ]
  },
  {
   "cell_type": "markdown",
   "metadata": {
    "id": "pe1XEOdb2Hcm"
   },
   "source": [
    "We now show more detailed information about our dataset, including the number of entries, as well as the column names, the count of non-nulls and the data type of each column."
   ]
  },
  {
   "cell_type": "code",
   "execution_count": 3,
   "metadata": {
    "colab": {
     "base_uri": "https://localhost:8080/"
    },
    "executionInfo": {
     "elapsed": 4335,
     "status": "ok",
     "timestamp": 1618825299216,
     "user": {
      "displayName": "Joshua Campos",
      "photoUrl": "https://lh3.googleusercontent.com/a-/AOh14GgNBYf7hbBqn4J1KUTIQ-AfTLBSfnvPEaVkswsDbg=s64",
      "userId": "15520650830739661074"
     },
     "user_tz": -120
    },
    "id": "Hmodo3tIMmUQ",
    "outputId": "d12b3fa3-3c7e-4a50-c385-cf69e52cd467"
   },
   "outputs": [
    {
     "name": "stdout",
     "output_type": "stream",
     "text": [
      "<class 'pandas.core.frame.DataFrame'>\n",
      "Int64Index: 11314 entries, 0 to 11313\n",
      "Data columns (total 3 columns):\n",
      " #   Column        Non-Null Count  Dtype \n",
      "---  ------        --------------  ----- \n",
      " 0   content       11314 non-null  object\n",
      " 1   target        11314 non-null  int64 \n",
      " 2   target_names  11314 non-null  object\n",
      "dtypes: int64(1), object(2)\n",
      "memory usage: 353.6+ KB\n"
     ]
    }
   ],
   "source": [
    "df.info()"
   ]
  },
  {
   "cell_type": "markdown",
   "metadata": {
    "id": "bCo6zcrE2ibW"
   },
   "source": [
    "We now show all the target names available in our dataset as well as the number of records that belong to that target."
   ]
  },
  {
   "cell_type": "code",
   "execution_count": 4,
   "metadata": {
    "colab": {
     "base_uri": "https://localhost:8080/"
    },
    "executionInfo": {
     "elapsed": 4329,
     "status": "ok",
     "timestamp": 1618825299216,
     "user": {
      "displayName": "Joshua Campos",
      "photoUrl": "https://lh3.googleusercontent.com/a-/AOh14GgNBYf7hbBqn4J1KUTIQ-AfTLBSfnvPEaVkswsDbg=s64",
      "userId": "15520650830739661074"
     },
     "user_tz": -120
    },
    "id": "jMyXZHhMM63Y",
    "outputId": "31814990-7a98-4dfc-dba7-6badd10f0b88"
   },
   "outputs": [
    {
     "data": {
      "text/plain": [
       "rec.sport.hockey            600\n",
       "soc.religion.christian      599\n",
       "rec.motorcycles             598\n",
       "rec.sport.baseball          597\n",
       "sci.crypt                   595\n",
       "rec.autos                   594\n",
       "sci.med                     594\n",
       "sci.space                   593\n",
       "comp.windows.x              593\n",
       "comp.os.ms-windows.misc     591\n",
       "sci.electronics             591\n",
       "comp.sys.ibm.pc.hardware    590\n",
       "misc.forsale                585\n",
       "comp.graphics               584\n",
       "comp.sys.mac.hardware       578\n",
       "talk.politics.mideast       564\n",
       "talk.politics.guns          546\n",
       "alt.atheism                 480\n",
       "talk.politics.misc          465\n",
       "talk.religion.misc          377\n",
       "Name: target_names, dtype: int64"
      ]
     },
     "execution_count": 4,
     "metadata": {
      "tags": []
     },
     "output_type": "execute_result"
    }
   ],
   "source": [
    "df['target_names'].value_counts()"
   ]
  },
  {
   "cell_type": "markdown",
   "metadata": {
    "id": "1NeD766d2wIO"
   },
   "source": [
    "We now print the content of our first record in order to understand how it really looks like and how it is structured."
   ]
  },
  {
   "cell_type": "code",
   "execution_count": 5,
   "metadata": {
    "colab": {
     "base_uri": "https://localhost:8080/"
    },
    "executionInfo": {
     "elapsed": 4326,
     "status": "ok",
     "timestamp": 1618825299217,
     "user": {
      "displayName": "Joshua Campos",
      "photoUrl": "https://lh3.googleusercontent.com/a-/AOh14GgNBYf7hbBqn4J1KUTIQ-AfTLBSfnvPEaVkswsDbg=s64",
      "userId": "15520650830739661074"
     },
     "user_tz": -120
    },
    "id": "rFn03kosNhFN",
    "outputId": "6518130f-e1ee-46bd-f909-d9aaedc34c58"
   },
   "outputs": [
    {
     "name": "stdout",
     "output_type": "stream",
     "text": [
      "From: lerxst@wam.umd.edu (where's my thing)\n",
      "Subject: WHAT car is this!?\n",
      "Nntp-Posting-Host: rac3.wam.umd.edu\n",
      "Organization: University of Maryland, College Park\n",
      "Lines: 15\n",
      "\n",
      " I was wondering if anyone out there could enlighten me on this car I saw\n",
      "the other day. It was a 2-door sports car, looked to be from the late 60s/\n",
      "early 70s. It was called a Bricklin. The doors were really small. In addition,\n",
      "the front bumper was separate from the rest of the body. This is \n",
      "all I know. If anyone can tellme a model name, engine specs, years\n",
      "of production, where this car is made, history, or whatever info you\n",
      "have on this funky looking car, please e-mail.\n",
      "\n",
      "Thanks,\n",
      "- IL\n",
      "   ---- brought to you by your neighborhood Lerxst ----\n",
      "\n",
      "\n",
      "\n",
      "\n",
      "\n"
     ]
    }
   ],
   "source": [
    "print(df['content'][0])"
   ]
  },
  {
   "cell_type": "markdown",
   "metadata": {
    "id": "dPXOVqQ527le"
   },
   "source": [
    "After reading the previous text, we print the corresponding target name to corroborate if it makes sense."
   ]
  },
  {
   "cell_type": "code",
   "execution_count": 6,
   "metadata": {
    "colab": {
     "base_uri": "https://localhost:8080/"
    },
    "executionInfo": {
     "elapsed": 4321,
     "status": "ok",
     "timestamp": 1618825299217,
     "user": {
      "displayName": "Joshua Campos",
      "photoUrl": "https://lh3.googleusercontent.com/a-/AOh14GgNBYf7hbBqn4J1KUTIQ-AfTLBSfnvPEaVkswsDbg=s64",
      "userId": "15520650830739661074"
     },
     "user_tz": -120
    },
    "id": "BJ3UnwnvNv3e",
    "outputId": "d86b0f4c-ce3a-45ea-9344-11b88d76af07"
   },
   "outputs": [
    {
     "name": "stdout",
     "output_type": "stream",
     "text": [
      "rec.autos\n"
     ]
    }
   ],
   "source": [
    "print(df['target_names'][0])"
   ]
  },
  {
   "cell_type": "markdown",
   "metadata": {
    "id": "ADc7U5sfOzEs"
   },
   "source": [
    "## Part B: Remove initial text metadata"
   ]
  },
  {
   "cell_type": "markdown",
   "metadata": {
    "id": "5fXF3eX8Lp8b"
   },
   "source": [
    "In order to remove the text metadata, we first create two lists. The first list contains words that start a specific line of metadata, which we want to remove. The second list contains specific words that do not bring any value to the meaning of the text and that we also want to remove."
   ]
  },
  {
   "cell_type": "code",
   "execution_count": 7,
   "metadata": {
    "executionInfo": {
     "elapsed": 4316,
     "status": "ok",
     "timestamp": 1618825299217,
     "user": {
      "displayName": "Joshua Campos",
      "photoUrl": "https://lh3.googleusercontent.com/a-/AOh14GgNBYf7hbBqn4J1KUTIQ-AfTLBSfnvPEaVkswsDbg=s64",
      "userId": "15520650830739661074"
     },
     "user_tz": -120
    },
    "id": "AuAON81kPXrm"
   },
   "outputs": [],
   "source": [
    "starting_words = ['From:', 'Article-I.D.:', 'Organization:', 'Lines:', 'NNTP-Posting-Host:', 'Distribution:', 'Reply-To:', 'X-Newsreader:', 'Expires:', ' -']\n",
    "single_words = ['Subject:', 'Summary:', 'Keywords:']"
   ]
  },
  {
   "cell_type": "markdown",
   "metadata": {
    "id": "tJIQXxCMMqkR"
   },
   "source": [
    "We now create a copy of our dataframe and then remove every line that starts with any word from the first list and all the words from the second list that might be found in the content of our dataset. By doing this, we make sure only the text that actually brings value and explains the meaning of the message remains. "
   ]
  },
  {
   "cell_type": "code",
   "execution_count": 8,
   "metadata": {
    "executionInfo": {
     "elapsed": 8454,
     "status": "ok",
     "timestamp": 1618825303358,
     "user": {
      "displayName": "Joshua Campos",
      "photoUrl": "https://lh3.googleusercontent.com/a-/AOh14GgNBYf7hbBqn4J1KUTIQ-AfTLBSfnvPEaVkswsDbg=s64",
      "userId": "15520650830739661074"
     },
     "user_tz": -120
    },
    "id": "nNdh8gdcWWT-"
   },
   "outputs": [],
   "source": [
    "data = df.copy()\n",
    "\n",
    "for word in starting_words:\n",
    "  data['content'] = data['content'].apply(lambda content: re.sub(word + '.*\\n', '', content, flags=re.IGNORECASE))\n",
    "\n",
    "for word in single_words:\n",
    "  data['content'] = data['content'].apply(lambda content: re.sub(word, '', content, flags=re.IGNORECASE))"
   ]
  },
  {
   "cell_type": "markdown",
   "metadata": {
    "id": "9SamrFhXND7k"
   },
   "source": [
    "We print the content of the first record to see how the text looks after removing the metadata."
   ]
  },
  {
   "cell_type": "code",
   "execution_count": 9,
   "metadata": {
    "colab": {
     "base_uri": "https://localhost:8080/"
    },
    "executionInfo": {
     "elapsed": 8452,
     "status": "ok",
     "timestamp": 1618825303361,
     "user": {
      "displayName": "Joshua Campos",
      "photoUrl": "https://lh3.googleusercontent.com/a-/AOh14GgNBYf7hbBqn4J1KUTIQ-AfTLBSfnvPEaVkswsDbg=s64",
      "userId": "15520650830739661074"
     },
     "user_tz": -120
    },
    "id": "5X45oOB4cboB",
    "outputId": "0ff482c6-f58c-413b-807b-3b9379601b2f"
   },
   "outputs": [
    {
     "name": "stdout",
     "output_type": "stream",
     "text": [
      " WHAT car is this!?\n",
      "\n",
      " I was wondering if anyone out there could enlighten me on this car I saw\n",
      "the other day. It was a 2-door sports car, looked to be from the late 60s/\n",
      "early 70s. It was called a Bricklin. The doors were really small. In addition,\n",
      "the front bumper was separate from the rest of the body. This is \n",
      "all I know. If anyone can tellme a model name, engine specs, years\n",
      "of production, where this car is made, history, or whatever info you\n",
      "have on this funky looking car, please e-mail.\n",
      "\n",
      "Thanks,\n",
      "- IL\n",
      "  \n",
      "\n",
      "\n",
      "\n",
      "\n"
     ]
    }
   ],
   "source": [
    "print(data.loc[0, 'content'])"
   ]
  },
  {
   "cell_type": "markdown",
   "metadata": {
    "id": "b0yiG2nsdcPg"
   },
   "source": [
    "## Part C: Remove numbers, punctuation, tabs and convert to lower case with gensim"
   ]
  },
  {
   "cell_type": "markdown",
   "metadata": {
    "id": "sEf31yNLNxcL"
   },
   "source": [
    "We now perform a few more transformations, like removing all the numeric characters, all the punctuation symbols, all extra whitespaces between words, and we then finally convert the whole text to lowercase. This way only individual words remain, each separated by a single space and in the same format. "
   ]
  },
  {
   "cell_type": "code",
   "execution_count": 10,
   "metadata": {
    "executionInfo": {
     "elapsed": 11934,
     "status": "ok",
     "timestamp": 1618825306848,
     "user": {
      "displayName": "Joshua Campos",
      "photoUrl": "https://lh3.googleusercontent.com/a-/AOh14GgNBYf7hbBqn4J1KUTIQ-AfTLBSfnvPEaVkswsDbg=s64",
      "userId": "15520650830739661074"
     },
     "user_tz": -120
    },
    "id": "GJ31oJrwdhry"
   },
   "outputs": [],
   "source": [
    "data['content'] = (data['content'].apply(lambda content: strip_numeric(content))\n",
    "                                  .apply(lambda content: strip_punctuation(content))\n",
    "                                  .apply(lambda content: strip_multiple_whitespaces(content))\n",
    "                                  .apply(lambda content: content.lower()))"
   ]
  },
  {
   "cell_type": "markdown",
   "metadata": {
    "id": "cHNBq-n5N_mS"
   },
   "source": [
    "We now print the content of the first record again to see how the text looks after the previous transformations."
   ]
  },
  {
   "cell_type": "code",
   "execution_count": 11,
   "metadata": {
    "colab": {
     "base_uri": "https://localhost:8080/"
    },
    "executionInfo": {
     "elapsed": 11932,
     "status": "ok",
     "timestamp": 1618825306850,
     "user": {
      "displayName": "Joshua Campos",
      "photoUrl": "https://lh3.googleusercontent.com/a-/AOh14GgNBYf7hbBqn4J1KUTIQ-AfTLBSfnvPEaVkswsDbg=s64",
      "userId": "15520650830739661074"
     },
     "user_tz": -120
    },
    "id": "eAFpPml6spmW",
    "outputId": "b129919a-c6de-484d-ffb1-02d095acd488"
   },
   "outputs": [
    {
     "name": "stdout",
     "output_type": "stream",
     "text": [
      " what car is this i was wondering if anyone out there could enlighten me on this car i saw the other day it was a door sports car looked to be from the late s early s it was called a bricklin the doors were really small in addition the front bumper was separate from the rest of the body this is all i know if anyone can tellme a model name engine specs years of production where this car is made history or whatever info you have on this funky looking car please e mail thanks il \n"
     ]
    }
   ],
   "source": [
    "print(data['content'][0])"
   ]
  },
  {
   "cell_type": "markdown",
   "metadata": {
    "id": "ZNopbNBGuMhy"
   },
   "source": [
    "## Part D: Remove stop words and short words"
   ]
  },
  {
   "cell_type": "markdown",
   "metadata": {
    "id": "jv5iEkwkOZ_t"
   },
   "source": [
    "At the beginning, we imported stopwords from two different libraries. \n",
    "\n",
    "Here we show the stopwords from 'gensim', but we first sort these words and then print them to see what they look like. "
   ]
  },
  {
   "cell_type": "code",
   "execution_count": 12,
   "metadata": {
    "colab": {
     "base_uri": "https://localhost:8080/"
    },
    "executionInfo": {
     "elapsed": 11928,
     "status": "ok",
     "timestamp": 1618825306850,
     "user": {
      "displayName": "Joshua Campos",
      "photoUrl": "https://lh3.googleusercontent.com/a-/AOh14GgNBYf7hbBqn4J1KUTIQ-AfTLBSfnvPEaVkswsDbg=s64",
      "userId": "15520650830739661074"
     },
     "user_tz": -120
    },
    "id": "OHa0OET2uLLH",
    "outputId": "74f86af9-2ec0-4ced-dd74-ccbc949a4c23"
   },
   "outputs": [
    {
     "name": "stdout",
     "output_type": "stream",
     "text": [
      "['a', 'about', 'above', 'across', 'after', 'afterwards', 'again', 'against', 'all', 'almost', 'alone', 'along', 'already', 'also', 'although', 'always', 'am', 'among', 'amongst', 'amoungst', 'amount', 'an', 'and', 'another', 'any', 'anyhow', 'anyone', 'anything', 'anyway', 'anywhere', 'are', 'around', 'as', 'at', 'back', 'be', 'became', 'because', 'become', 'becomes', 'becoming', 'been', 'before', 'beforehand', 'behind', 'being', 'below', 'beside', 'besides', 'between', 'beyond', 'bill', 'both', 'bottom', 'but', 'by', 'call', 'can', 'cannot', 'cant', 'co', 'computer', 'con', 'could', 'couldnt', 'cry', 'de', 'describe', 'detail', 'did', 'didn', 'do', 'does', 'doesn', 'doing', 'don', 'done', 'down', 'due', 'during', 'each', 'eg', 'eight', 'either', 'eleven', 'else', 'elsewhere', 'empty', 'enough', 'etc', 'even', 'ever', 'every', 'everyone', 'everything', 'everywhere', 'except', 'few', 'fifteen', 'fify', 'fill', 'find', 'fire', 'first', 'five', 'for', 'former', 'formerly', 'forty', 'found', 'four', 'from', 'front', 'full', 'further', 'get', 'give', 'go', 'had', 'has', 'hasnt', 'have', 'he', 'hence', 'her', 'here', 'hereafter', 'hereby', 'herein', 'hereupon', 'hers', 'herself', 'him', 'himself', 'his', 'how', 'however', 'hundred', 'i', 'ie', 'if', 'in', 'inc', 'indeed', 'interest', 'into', 'is', 'it', 'its', 'itself', 'just', 'keep', 'kg', 'km', 'last', 'latter', 'latterly', 'least', 'less', 'ltd', 'made', 'make', 'many', 'may', 'me', 'meanwhile', 'might', 'mill', 'mine', 'more', 'moreover', 'most', 'mostly', 'move', 'much', 'must', 'my', 'myself', 'name', 'namely', 'neither', 'never', 'nevertheless', 'next', 'nine', 'no', 'nobody', 'none', 'noone', 'nor', 'not', 'nothing', 'now', 'nowhere', 'of', 'off', 'often', 'on', 'once', 'one', 'only', 'onto', 'or', 'other', 'others', 'otherwise', 'our', 'ours', 'ourselves', 'out', 'over', 'own', 'part', 'per', 'perhaps', 'please', 'put', 'quite', 'rather', 're', 'really', 'regarding', 'same', 'say', 'see', 'seem', 'seemed', 'seeming', 'seems', 'serious', 'several', 'she', 'should', 'show', 'side', 'since', 'sincere', 'six', 'sixty', 'so', 'some', 'somehow', 'someone', 'something', 'sometime', 'sometimes', 'somewhere', 'still', 'such', 'system', 'take', 'ten', 'than', 'that', 'the', 'their', 'them', 'themselves', 'then', 'thence', 'there', 'thereafter', 'thereby', 'therefore', 'therein', 'thereupon', 'these', 'they', 'thick', 'thin', 'third', 'this', 'those', 'though', 'three', 'through', 'throughout', 'thru', 'thus', 'to', 'together', 'too', 'top', 'toward', 'towards', 'twelve', 'twenty', 'two', 'un', 'under', 'unless', 'until', 'up', 'upon', 'us', 'used', 'using', 'various', 'very', 'via', 'was', 'we', 'well', 'were', 'what', 'whatever', 'when', 'whence', 'whenever', 'where', 'whereafter', 'whereas', 'whereby', 'wherein', 'whereupon', 'wherever', 'whether', 'which', 'while', 'whither', 'who', 'whoever', 'whole', 'whom', 'whose', 'why', 'will', 'with', 'within', 'without', 'would', 'yet', 'you', 'your', 'yours', 'yourself', 'yourselves']\n"
     ]
    }
   ],
   "source": [
    "print(sorted(STOPWORDS))"
   ]
  },
  {
   "cell_type": "markdown",
   "metadata": {
    "id": "p6aRTF75O33w"
   },
   "source": [
    "Here we print the stopwords from 'nltk', where we can see that it has a lot more words, including stopwords from different languages. "
   ]
  },
  {
   "cell_type": "code",
   "execution_count": 13,
   "metadata": {
    "colab": {
     "base_uri": "https://localhost:8080/"
    },
    "executionInfo": {
     "elapsed": 11924,
     "status": "ok",
     "timestamp": 1618825306851,
     "user": {
      "displayName": "Joshua Campos",
      "photoUrl": "https://lh3.googleusercontent.com/a-/AOh14GgNBYf7hbBqn4J1KUTIQ-AfTLBSfnvPEaVkswsDbg=s64",
      "userId": "15520650830739661074"
     },
     "user_tz": -120
    },
    "id": "tQTUglSUuwOp",
    "outputId": "bcadbfe2-114d-49c3-f0fa-1751871ce151"
   },
   "outputs": [
    {
     "name": "stdout",
     "output_type": "stream",
     "text": [
      "['a', 'a', 'a', 'a', 'a', 'a', 'a', 'aan', 'abban', 'abbia', 'abbiamo', 'abbiano', 'abbiate', 'aber', 'abia', 'about', 'above', 'acea', 'aceasta', 'această', 'aceea', 'aceeasi', 'acei', 'aceia', 'acel', 'acela', 'acelasi', 'acele', 'acelea', 'acest', 'acesta', 'aceste', 'acestea', 'acestei', 'acestia', 'acestui', 'aceşti', 'aceştia', 'ad', 'ad', 'ada', 'adalah', 'adanya', 'adapun', 'adica', 'af', 'after', 'again', 'against', 'agak', 'agaknya', 'agar', 'agl', 'agli', 'ahhoz', 'ahogy', 'ahol', 'ai', 'ai', 'ai', 'aia', 'aibă', 'aici', 'aie', 'aient', 'aies', 'ain', 'ait', 'akan', 'akankah', 'akhir', 'akhiri', 'akhirnya', 'aki', 'akik', 'akkor', 'aku', 'akulah', 'al', 'al', 'al', 'al', 'ala', 'alatt', 'ale', 'alea', 'algo', 'algunas', 'algunos', 'ali', 'all', 'all', 'alla', 'alla', 'alle', 'alle', 'alle', 'alle', 'allem', 'allen', 'aller', 'alles', 'alles', 'allo', 'allt', 'als', 'als', 'also', 'alt', 'alt', 'alta', 'altceva', 'altcineva', 'alte', 'altfel', 'alti', 'altii', 'altijd', 'altmış', 'altul', 'altı', 'am', 'am', 'am', 'ama', 'amat', 'amatlah', 'amely', 'amelyek', 'amelyekben', 'amelyeket', 'amelyet', 'amelynek', 'ami', 'amikor', 'amit', 'amma', 'amolyan', 'ampak', 'amíg', 'an', 'an', 'anche', 'and', 'anda', 'andalah', 'anden', 'ander', 'andere', 'andere', 'anderem', 'anderen', 'anderer', 'anderes', 'anderm', 'andern', 'anderr', 'anders', 'annak', 'antar', 'antara', 'antaranya', 'ante', 'antes', 'anume', 'any', 'ao', 'aos', 'apa', 'apaan', 'apabila', 'apakah', 'apalagi', 'apatah', 'apoi', 'aquela', 'aquelas', 'aquele', 'aqueles', 'aquilo', 'ar', 'arasında', 'are', 'are', 'aren', \"aren't\", 'arra', 'arról', 'artinya', 'artıq', 'as', 'as', 'as', 'as', 'asa', 'asal', 'asalkan', 'aslında', 'asta', 'astea', 'astfel', 'asupra', 'at', 'at', 'at', 'atare', 'atas', 'atat', 'atata', 'atatea', 'atatia', 'atau', 'ataukah', 'ataupun', 'ati', 'atit', 'atita', 'atitea', 'atitia', 'att', 'atunci', 'até', 'au', 'au', 'auch', 'auf', 'aura', 'aurai', 'auraient', 'aurais', 'aurait', 'auras', 'aurez', 'auriez', 'aurions', 'aurons', 'auront', 'aus', 'aux', 'av', 'av', 'avaient', 'avais', 'avait', 'avea', 'avec', 'avem', 'avemmo', 'avendo', 'avesse', 'avessero', 'avessi', 'avessimo', 'aveste', 'avesti', 'avete', 'aveva', 'avevamo', 'avevano', 'avevate', 'avevi', 'avevo', 'avez', 'aveţi', 'aviez', 'avions', 'avons', 'avrai', 'avranno', 'avrebbe', 'avrebbero', 'avrei', 'avremmo', 'avremo', 'avreste', 'avresti', 'avrete', 'avrà', 'avrò', 'avut', 'avuta', 'avute', 'avuti', 'avuto', 'awal', 'awalnya', 'ay', 'ayant', 'ayante', 'ayantes', 'ayants', 'ayez', 'ayons', 'az', 'az', 'az', 'azok', 'azon', 'azonban', 'azt', 'aztán', 'azután', 'azzal', 'azért', 'aş', 'aţi', 'ba', 'bagai', 'bagaikan', 'bagaimana', 'bagaimanakah', 'bagaimanapun', 'bagi', 'bagian', 'bahkan', 'bahwa', 'bahwasanya', 'baik', 'baje', 'bakal', 'bakalan', 'balik', 'banyak', 'bapak', 'bare', 'baru', 'bawah', 'bax', 'bazı', 'be', 'be', 'beberapa', 'because', 'been', 'before', 'begge', 'begini', 'beginian', 'beginikah', 'beginilah', 'begitu', 'begitukah', 'begitulah', 'begitupun', 'bei', 'being', 'bekerja', 'belakang', 'belakangan', 'belki', 'below', 'belum', 'belumlah', 'belül', 'belə', 'ben', 'benar', 'benarkah', 'benarlah', 'benne', 'berada', 'berakhir', 'berakhirlah', 'berakhirnya', 'berapa', 'berapakah', 'berapalah', 'berapapun', 'berarti', 'berawal', 'berbagai', 'berdatangan', 'beri', 'berikan', 'berikut', 'berikutnya', 'berjumlah', 'berkali-kali', 'berkata', 'berkehendak', 'berkeinginan', 'berkenaan', 'berlainan', 'berlalu', 'berlangsung', 'berlebihan', 'bermacam', 'bermacam-macam', 'bermaksud', 'bermula', 'bersama', 'bersama-sama', 'bersiap', 'bersiap-siap', 'bertanya', 'bertanya-tanya', 'berturut', 'berturut-turut', 'bertutur', 'berujar', 'berupa', 'besar', 'betul', 'betulkah', 'between', 'beş', 'bi', 'biasa', 'biasanya', 'bij', 'bil', 'bila', 'bila', 'bilakah', 'bile', 'bili', 'bilo', 'bilər', 'bin', 'bir', 'biraz', 'biri', 'biri', 'birkaç', 'birşey', 'birşey', 'bis', 'bisa', 'bisakah', 'bist', 'biti', 'biz', 'biz', 'bizim', 'bizlər', 'ble', 'blei', 'blev', 'blev', 'bli', 'bli', 'blir', 'blir', 'blitt', 'blive', 'bliver', 'blivit', 'blizu', 'bo', 'bodi', 'bodimo', 'bodisi', 'bodita', 'bodite', 'bodiva', 'bodo', 'bojda', 'bojo', 'boleh', 'bolehkah', 'bolehlah', 'bom', 'bomo', 'bosta', 'boste', 'both', 'bova', 'boš', 'brez', 'bržkone', 'bržčas', 'bu', 'bu', 'buat', 'bukan', 'bukankah', 'bukanlah', 'bukannya', 'bulan', 'buna', 'bundan', 'bung', 'bunların', 'bunu', 'bunun', 'buradan', 'but', 'by', 'bár', 'både', 'båe', 'bütün', 'bəli', 'bəlkə', 'bəy', 'bəzi', 'bəzən', 'c', 'c', 'ca', 'cam', 'can', 'cand', 'cara', 'caranya', 'care', 'careia', 'carora', 'caruia', 'cat', 'catre', 'ce', 'ce', 'cea', 'ceea', 'cei', 'ceilalti', 'cel', 'cele', 'celo', 'celor', 'ces', 'ceva', 'che', 'chi', 'chiar', 'ci', 'ci', 'ci', 'cikk', 'cikkek', 'cikkeket', 'cind', 'cine', 'cineva', 'cit', 'cita', 'cite', 'citeva', 'citi', 'citiva', 'coi', 'col', 'com', 'come', 'como', 'como', 'con', 'con', 'contra', 'contro', 'couldn', \"couldn't\", 'csak', 'cu', 'cu', 'cual', 'cuando', 'cui', 'cui', 'cukup', 'cukupkah', 'cukuplah', 'cum', 'cuma', 'cumva', 'cât', 'câte', 'câtva', 'câţi', 'cînd', 'cît', 'cîte', 'cîtva', 'cîţi', 'cü', 'că', 'căci', 'cărei', 'căror', 'cărui', 'către', 'cı', 'd', 'd', 'da', 'da', 'da', 'da', 'da', 'da', 'da', 'da', 'da', 'daar', 'daca', 'dacă', 'dagl', 'dagli', 'daha', 'daha', 'dahulu', 'dai', 'dal', 'dalam', 'dall', 'dalla', 'dalle', 'dallo', 'damit', 'dan', 'dan', 'dann', 'dans', 'dapat', 'dar', 'dari', 'daripada', 'das', 'das', 'dass', 'dasselbe', 'dat', 'dat', 'datang', 'dată', 'dau', 'dazu', 'daß', 'de', 'de', 'de', 'de', 'de', 'de', 'de', 'de', 'de', 'de', 'deasupra', 'deci', 'decit', 'dedi', 'defa', 'deg', 'degl', 'degli', 'dei', 'dei', 'deim', 'dein', 'deine', 'deinem', 'deinen', 'deiner', 'deines', 'deira', 'deires', 'deja', 'dekat', 'del', 'del', 'dela', 'delas', 'dele', 'deles', 'dell', 'della', 'delle', 'dello', 'dem', 'dem', 'dem', 'dem', 'demi', 'demikian', 'demikianlah', 'demselben', 'den', 'den', 'den', 'den', 'dengan', 'denn', 'denna', 'denne', 'denne', 'denselben', 'depan', 'depois', 'der', 'der', 'der', 'der', 'deras', 'dere', 'derer', 'deres', 'deres', 'derselbe', 'derselben', 'des', 'des', 'desde', 'deset', 'deseta', 'desete', 'desetega', 'desetem', 'desetemu', 'deseter', 'desetera', 'desetere', 'deseterega', 'deseterem', 'deseteremu', 'deseteri', 'deseterih', 'deseterim', 'deseterima', 'deseterimi', 'desetero', 'deseti', 'desetih', 'desetim', 'desetima', 'desetimi', 'deseto', 'desi', 'despre', 'dess', 'dessa', 'desselben', 'dessen', 'det', 'det', 'det', 'detta', 'dette', 'dette', 'devet', 'deveta', 'devetdeset', 'devetdeseta', 'devetdesete', 'devetdesetega', 'devetdesetem', 'devetdesetemu', 'devetdeseti', 'devetdesetih', 'devetdesetim', 'devetdesetima', 'devetdesetimi', 'devetdeseto', 'devete', 'devetega', 'devetem', 'devetemu', 'deveti', 'devetih', 'devetim', 'devetima', 'devetimi', 'devetintrideset', 'devetintridesetih', 'devetintridesetim', 'devetintridesetimi', 'devetnajst', 'devetnajsta', 'devetnajste', 'devetnajstega', 'devetnajstem', 'devetnajstemu', 'devetnajsti', 'devetnajstih', 'devetnajstim', 'devetnajstima', 'devetnajstimi', 'devetnajsto', 'deveto', 'devetsto', 'devetstotih', 'devetstotim', 'devetstotimi', 'deyil', 'deze', 'deşi', 'di', 'di', 'di', 'dia', 'diakhiri', 'diakhirinya', 'dialah', 'diantara', 'diantaranya', 'diberi', 'diberikan', 'diberikannya', 'dibuat', 'dibuatnya', 'dich', 'did', 'didapat', 'didatangkan', 'didn', \"didn't\", 'die', 'die', 'dies', 'diese', 'dieselbe', 'dieselben', 'diesem', 'diesen', 'dieser', 'dieses', 'dig', 'dig', 'digunakan', 'diibaratkan', 'diibaratkannya', 'diingat', 'diingatkan', 'diinginkan', 'dijawab', 'dijelaskan', 'dijelaskannya', 'dikarenakan', 'dikatakan', 'dikatakannya', 'dikerjakan', 'diketahui', 'diketahuinya', 'dikira', 'dilakukan', 'dilalui', 'dilihat', 'dimaksud', 'dimaksudkan', 'dimaksudkannya', 'dimaksudnya', 'diminta', 'dimintai', 'dimisalkan', 'dimulai', 'dimulailah', 'dimulainya', 'dimungkinkan', 'din', 'din', 'din', 'din', 'dina', 'dini', 'dintr', 'dintr-', 'dintre', 'dipastikan', 'diperbuat', 'diperbuatnya', 'dipergunakan', 'diperkirakan', 'diperlihatkan', 'diperlukan', 'diperlukannya', 'dipersoalkan', 'dipertanyakan', 'dipunyai', 'dir', 'dir', 'diri', 'dirinya', 'disampaikan', 'disebut', 'disebutkan', 'disebutkannya', 'disini', 'disinilah', 'disse', 'disse', 'dit', 'ditambahkan', 'ditandaskan', 'ditanya', 'ditanyai', 'ditanyakan', 'ditegaskan', 'ditt', 'ditt', 'ditujukan', 'ditunjuk', 'ditunjuki', 'ditunjukkan', 'ditunjukkannya', 'ditunjuknya', 'dituturkan', 'dituturkannya', 'diucapkan', 'diucapkannya', 'diungkapkan', 'diye', 'dno', 'do', 'do', 'do', 'doar', 'dobesedno', 'doch', 'doch', 'doen', 'does', 'doesn', \"doesn't\", 'dog', 'doi', 'doilea', 'doing', 'domala', 'don', \"don't\", 'donde', 'dong', 'door', 'doqquz', 'doqsan', 'dort', 'dos', 'două', 'dov', 'dove', 'dovoli', 'dovolijo', 'dovolil', 'dovolila', 'dovolile', 'dovolili', 'dovolilo', 'dovolim', 'dovolimo', 'dovolita', 'dovolite', 'dovoliti', 'dovoliva', 'dovoliš', 'dovoljen', 'dovoljena', 'dovoljene', 'dovoljeni', 'dovoljeno', 'down', 'drept', 'drug', 'druga', 'drugačen', 'drugačna', 'drugačne', 'drugačnega', 'drugačnem', 'drugačnemu', 'drugačni', 'drugačnih', 'drugačnim', 'drugačnima', 'drugačnimi', 'drugačno', 'druge', 'drugega', 'drugem', 'drugemu', 'drugi', 'drugih', 'drugim', 'drugima', 'drugimi', 'drugo', 'du', 'du', 'du', 'du', 'du', 'dua', 'dulu', 'dupa', 'după', 'durante', 'durch', 'during', 'dus', 'dva', 'dvaindevetdeseta', 'dvaindevetdesete', 'dvaindevetdesetega', 'dvaindevetdesetem', 'dvaindevetdesetemu', 'dvaindevetdeseti', 'dvaindevetdesetih', 'dvaindevetdesetim', 'dvaindevetdesetima', 'dvaindevetdesetimi', 'dvaindevetdeseto', 'dvaindvajset', 'dvaindvajsetih', 'dvaindvajsetim', 'dvaindvajsetimi', 'dvainšestdeset', 'dvainšestdesetih', 'dvainšestdesetim', 'dvainšestdesetimi', 'dvajset', 'dvajseta', 'dvajsete', 'dvajsetega', 'dvajsetem', 'dvajsetemu', 'dvajseti', 'dvajsetih', 'dvajsetim', 'dvajsetima', 'dvajsetimi', 'dvajseto', 'dvakraten', 'dvakratna', 'dvakratne', 'dvakratnega', 'dvakratnem', 'dvakratnemu', 'dvakratni', 'dvakratnih', 'dvakratnim', 'dvakratnima', 'dvakratnimi', 'dvakratno', 'dvanajst', 'dvanajsta', 'dvanajste', 'dvanajstega', 'dvanajstem', 'dvanajstemu', 'dvanajsti', 'dvanajstih', 'dvanajstim', 'dvanajstima', 'dvanajstimi', 'dvanajsto', 'dve', 'dveh', 'dvema', 'dvesto', 'dvestota', 'dvestote', 'dvestotega', 'dvestotem', 'dvestotemu', 'dvestoti', 'dvestotih', 'dvestotim', 'dvestotima', 'dvestotimi', 'dvestoto', 'dvoj', 'dvoja', 'dvoje', 'dvojega', 'dvojem', 'dvojemu', 'dvojen', 'dvoji', 'dvojih', 'dvojim', 'dvojima', 'dvojimi', 'dvojna', 'dvojne', 'dvojnega', 'dvojnem', 'dvojnemu', 'dvojni', 'dvojnih', 'dvojnim', 'dvojnima', 'dvojnimi', 'dvojno', 'dvojo', 'dykk', 'dykkar', 'där', 'då', 'då', 'dörd', 'düz', 'dă', 'də', 'dək', 'dən', 'dəqiqə', 'e', 'e', 'e', 'e', 'e', 'ea', 'each', 'ebbe', 'ebben', 'ebbero', 'ebbi', 'ed', 'eddig', 'eden', 'edinole', 'edir', 'edən', 'een', 'eens', 'efter', 'efter', 'eg', 'egy', 'egyes', 'egyetlen', 'egyik', 'egyre', 'egyéb', 'egész', 'ehhez', 'ei', 'ei', 'ein', 'ein', 'eine', 'einem', 'einen', 'einer', 'eines', 'einig', 'einige', 'einigem', 'einigen', 'einiger', 'einiges', 'einmal', 'eit', 'eitt', 'eivät', 'ej', 'ekkor', 'el', 'el', 'el', 'ela', 'elas', 'ele', 'ele', 'eles', 'ella', 'ellas', 'elle', 'ellen', 'eller', 'eller', 'eller', 'elles', 'ellos', 'elsõ', 'elég', 'elõ', 'elõször', 'elõtt', 'elə', 'em', 'emilyen', 'emme', 'empat', 'en', 'en', 'en', 'en', 'en', 'en', 'en', 'en', 'en', 'ena', 'enaindvajset', 'enaindvajseta', 'enaindvajsete', 'enaindvajsetega', 'enaindvajsetem', 'enaindvajsetemu', 'enaindvajseti', 'enaindvajsetih', 'enaindvajsetim', 'enaindvajsetima', 'enaindvajsetimi', 'enaindvajseto', 'enaintrideset', 'enaintridesetih', 'enaintridesetim', 'enaintridesetimi', 'enajst', 'enajsta', 'enajste', 'enajstega', 'enajstem', 'enajstemu', 'enajsti', 'enajstih', 'enajstim', 'enajstima', 'enajstimi', 'enajsto', 'enak', 'enaka', 'enake', 'enakega', 'enakem', 'enakemu', 'enaki', 'enakih', 'enakim', 'enakima', 'enakimi', 'enako', 'end', 'ene', 'enega', 'enem', 'enemu', 'enggak', 'enggaknya', 'eni', 'enih', 'enim', 'enima', 'enimi', 'enkraten', 'enkratna', 'enkratne', 'enkratnega', 'enkratnem', 'enkratnemu', 'enkratni', 'enkratnih', 'enkratnim', 'enkratnima', 'enkratnimi', 'enkratno', 'enn', 'ennek', 'eno', 'entah', 'entahlah', 'entre', 'entre', 'er', 'er', 'er', 'er', 'er', 'era', 'era', 'era', 'era', 'era', 'erais', 'eram', 'eram', 'eran', 'erano', 'eras', 'eravamo', 'eravate', 'eres', 'eri', 'ero', 'erre', 'ert', 'es', 'es', 'es', 'esa', 'esas', 'ese', 'eso', 'esos', 'essa', 'essas', 'esse', 'essendo', 'esses', 'est', 'esta', 'esta', 'estaba', 'estabais', 'estaban', 'estabas', 'estad', 'estada', 'estadas', 'estado', 'estados', 'estamos', 'estamos', 'estando', 'estar', 'estaremos', 'estará', 'estarán', 'estarás', 'estaré', 'estaréis', 'estaría', 'estaríais', 'estaríamos', 'estarían', 'estarías', 'estas', 'estas', 'estava', 'estavam', 'este', 'este', 'este', 'esteja', 'estejam', 'estejamos', 'estemos', 'estes', 'esteve', 'estive', 'estivemos', 'estiver', 'estivera', 'estiveram', 'estiverem', 'estivermos', 'estivesse', 'estivessem', 'estivéramos', 'estivéssemos', 'esto', 'estos', 'estou', 'estoy', 'estuve', 'estuviera', 'estuvierais', 'estuvieran', 'estuvieras', 'estuvieron', 'estuviese', 'estuvieseis', 'estuviesen', 'estuvieses', 'estuvimos', 'estuviste', 'estuvisteis', 'estuviéramos', 'estuviésemos', 'estuvo', 'está', 'está', 'estábamos', 'estáis', 'están', 'estás', 'estávamos', 'estão', 'esté', 'estéis', 'estén', 'estés', 'et', 'et', 'et', 'et', 'et', 'etdi', 'etmə', 'etmək', 'ett', 'ett', 'ette', 'etter', 'että', 'etwas', 'eu', 'eu', 'eu', 'euch', 'eue', 'euer', 'eues', 'eure', 'eurem', 'euren', 'eurent', 'eurer', 'eures', 'eus', 'eusse', 'eussent', 'eusses', 'eussiez', 'eussions', 'eut', 'eux', 'ez', 'ezek', 'ezen', 'ezt', 'ezzel', 'ezért', 'eûmes', 'eût', 'eûtes', 'eğer', 'eşti', 'faccia', 'facciamo', 'facciano', 'facciate', 'faccio', 'face', 'facemmo', 'facendo', 'facesse', 'facessero', 'facessi', 'facessimo', 'faceste', 'facesti', 'faceva', 'facevamo', 'facevano', 'facevate', 'facevi', 'facevo', 'fai', 'faiz', 'fanno', 'fara', 'farai', 'faranno', 'farebbe', 'farebbero', 'farei', 'faremmo', 'faremo', 'fareste', 'faresti', 'farete', 'farà', 'farò', 'fata', 'fece', 'fecero', 'feci', 'fel', 'fel', 'felé', 'few', 'fi', 'fie', 'fiecare', 'fii', 'fim', 'fiu', 'fiţi', 'foarte', 'foi', 'fomos', 'for', 'for', 'for', 'for', 'fora', 'foram', 'fordi', 'forem', 'formos', 'fosse', 'fosse', 'fossem', 'fossero', 'fossi', 'fossimo', 'fost', 'foste', 'fosti', 'fra', 'fra', 'from', 'från', 'fu', 'fue', 'fuera', 'fuerais', 'fueran', 'fueras', 'fueron', 'fuese', 'fueseis', 'fuesen', 'fueses', 'fui', 'fui', 'fui', 'fuimos', 'fuiste', 'fuisteis', 'fummo', 'furent', 'furono', 'further', 'fus', 'fusse', 'fussent', 'fusses', 'fussiez', 'fussions', 'fut', 'fuéramos', 'fuésemos', 'fôramos', 'fôssemos', 'för', 'før', 'fûmes', 'fût', 'fûtes', 'für', 'fără', 'ga', 'ge', 'geen', 'gegen', 'geweest', 'gewesen', 'gibi', 'gilə', 'gli', 'gotovo', 'guna', 'gunakan', 'görə', 'h', 'ha', 'ha', 'ha', 'ha', 'ha', 'haar', 'hab', 'habe', 'haben', 'habida', 'habidas', 'habido', 'habidos', 'habiendo', 'habremos', 'habrá', 'habrán', 'habrás', 'habré', 'habréis', 'habría', 'habríais', 'habríamos', 'habrían', 'habrías', 'habéis', 'había', 'habíais', 'habíamos', 'habían', 'habías', 'had', 'had', 'hadde', 'hade', 'hadn', \"hadn't\", 'hai', 'haja', 'hajam', 'hajamos', 'hal', 'ham', 'hampir', 'han', 'han', 'han', 'han', 'hanem', 'hanno', 'hans', 'hans', 'hans', 'hanya', 'hanyalah', 'haqqında', 'har', 'har', 'har', 'harada', 'hari', 'harus', 'haruslah', 'harusnya', 'has', 'has', 'hasn', \"hasn't\", 'hasta', 'hat', 'hatte', 'hatten', 'havde', 'have', 'have', 'havemos', 'haven', \"haven't\", 'having', 'hay', 'haya', 'hayamos', 'hayan', 'hayas', 'hayáis', 'he', 'he', 'he', 'heb', 'hebben', 'heeft', 'hei', 'heidän', 'heidät', 'heihin', 'heille', 'heillä', 'heiltä', 'heissä', 'heistä', 'heitä', 'hem', 'hem', 'hemos', 'hendak', 'hendaklah', 'hendaknya', 'hende', 'hendes', 'hennar', 'henne', 'henne', 'hennes', 'hennes', 'hep', 'hepsi', 'her', 'her', 'her', 'her', 'here', 'hers', 'herself', 'het', 'heç', 'hier', 'hier', 'hij', 'him', 'himself', 'hin', 'hingga', 'hinter', 'his', 'hiszen', 'hiç', 'hjå', 'ho', 'ho', 'hoe', 'hoe', 'hogy', 'hogyan', 'hon', 'honom', 'honom', 'hos', 'hoss', 'hossen', 'hotel', 'hotela', 'hotele', 'hoteli', 'hotelo', 'hoteti', 'hoti', 'hotimo', 'hotita', 'hotite', 'hotiva', 'houve', 'houvemos', 'houver', 'houvera', 'houveram', 'houverei', 'houverem', 'houveremos', 'houveria', 'houveriam', 'houvermos', 'houverá', 'houverão', 'houveríamos', 'houvesse', 'houvessem', 'houvéramos', 'houvéssemos', 'how', 'hoče', 'hočejo', 'hočem', 'hočemo', 'hočeta', 'hočete', 'hočeva', 'hočeš', 'hube', 'hubiera', 'hubierais', 'hubieran', 'hubieras', 'hubieron', 'hubiese', 'hubieseis', 'hubiesen', 'hubieses', 'hubimos', 'hubiste', 'hubisteis', 'hubiéramos', 'hubiésemos', 'hubo', 'hun', 'hun', 'hun', 'hur', 'hva', 'hvad', 'hvem', 'hver', 'hvilke', 'hvilken', 'hvis', 'hvis', 'hvor', 'hvor', 'hvordan', 'hvorfor', 'há', 'hão', 'hän', 'häneen', 'hänelle', 'hänellä', 'häneltä', 'hänen', 'hänessä', 'hänestä', 'hänet', 'häntä', 'här', 'hə', 'həm', 'həmin', 'həmişə', 'hər', 'i', 'i', 'i', 'i', 'i', 'i', 'ia', 'ia', 'ialah', 'iar', 'ibarat', 'ibaratkan', 'ibaratnya', 'ibu', 'ich', 'icke', 'idi', 'iemand', 'iets', 'if', 'igen', 'ihm', 'ihn', 'ihnen', 'ihr', 'ihre', 'ihrem', 'ihren', 'ihrer', 'ihres', 'ii', 'ik', 'iki', 'ikke', 'ikke', 'ikkje', 'ikkje', 'ikut', 'il', 'il', 'il', 'il', 'ildə', 'ile', 'ilk', 'ill', 'ill.', 'illetve', 'ils', 'ilyen', 'ilyenkor', 'ilə', 'im', 'imi', 'in', 'in', 'in', 'in', 'in', 'in', 'in', 'inainte', 'inapoi', 'inca', 'incit', 'ind', 'indem', 'indi', 'ingat', 'ingat-ingat', 'ingen', 'ingen', 'ingi', 'ingin', 'inginkah', 'inginkan', 'ini', 'inikah', 'inilah', 'inkje', 'inn', 'inni', 'inom', 'ins', 'insa', 'inte', 'into', 'intr', 'intre', 'io', 'is', 'is', 'ise', 'isi', 'ismét', 'isn', \"isn't\", 'ison', 'isso', 'ist', 'ista', 'iste', 'istega', 'istem', 'istemu', 'isti', 'istifadə', 'istih', 'istim', 'istima', 'istimi', 'isto', 'isto', 'isə', 'it', \"it's\", 'itak', 'iti', 'its', 'itse', 'itself', 'itt', 'itu', 'itukah', 'itulah', 'iyirmi', 'iz', 'izmed', 'iznad', 'izpod', 'izpred', 'izven', 'izza', 'için', 'j', 'ja', 'ja', 'ja', 'ja', 'jadi', 'jadilah', 'jadinya', 'jag', 'jangan', 'jangankan', 'janganlah', 'jauh', 'jawab', 'jawaban', 'jawabnya', 'jaz', 'je', 'je', 'je', 'jede', 'jedem', 'jeden', 'jeder', 'jedes', 'jeg', 'jeg', 'jelas', 'jelaskan', 'jelaslah', 'jelasnya', 'jene', 'jenem', 'jenen', 'jener', 'jenes', 'jer', 'jetzt', 'ji', 'jih', 'jika', 'jikalau', 'jim', 'jima', 'jo', 'jo', 'jobban', 'johon', 'joiden', 'joihin', 'joiksi', 'joilla', 'joille', 'joilta', 'joina', 'joissa', 'joista', 'joita', 'joka', 'joksi', 'jolla', 'jolle', 'jolta', 'jona', 'jonka', 'jos', 'jossa', 'josta', 'jota', 'jotka', 'ju', 'ju', 'juga', 'jumlah', 'jumlahnya', 'just', 'justru', 'já', 'jó', 'jól', 'k', 'kadar', 'kaj', 'kajne', 'kajpada', 'kajpak', 'kajti', 'kak', 'kaka', 'kake', 'kakega', 'kakem', 'kakemu', 'kaki', 'kakih', 'kakim', 'kakima', 'kakimi', 'kako', 'kakor', 'kakršen', 'kakršenkoli', 'kakršna', 'kakršnakoli', 'kakršne', 'kakršnega', 'kakršnegakoli', 'kakršnekoli', 'kakršnem', 'kakršnemkoli', 'kakršnemu', 'kakršnemukoli', 'kakršni', 'kakršnih', 'kakršnihkoli', 'kakršnikoli', 'kakršnim', 'kakršnima', 'kakršnimakoli', 'kakršnimi', 'kakršnimikoli', 'kakršnimkoli', 'kakršno', 'kakršnokoli', 'kakšen', 'kakšna', 'kakšne', 'kakšnega', 'kakšnem', 'kakšnemu', 'kakšni', 'kakšnih', 'kakšnim', 'kakšnima', 'kakšnimi', 'kakšno', 'kala', 'kalau', 'kalaulah', 'kalaupun', 'kalian', 'kami', 'kamilah', 'kamu', 'kamulah', 'kan', 'kan', 'kan', 'kan', 'kann', 'kanssa', 'kapan', 'kapankah', 'kapanpun', 'kar', 'karena', 'karenanya', 'karkoli', 'kasus', 'kata', 'katakan', 'katakanlah', 'katanya', 'katera', 'katerakoli', 'katere', 'katerega', 'kateregakoli', 'katerekoli', 'katerem', 'kateremkoli', 'kateremu', 'kateremukoli', 'kateri', 'katerih', 'katerihkoli', 'katerikoli', 'katerim', 'katerima', 'katerimakoli', 'katerimi', 'katerimikoli', 'katerimkoli', 'katero', 'katerokoli', 'kdo', 'kdor', 'kdorkoli', 'ke', 'keadaan', 'kebetulan', 'kecil', 'kedua', 'keduanya', 'keiden', 'keihin', 'keiksi', 'keille', 'keillä', 'keiltä', 'kein', 'keine', 'keinem', 'keinen', 'keiner', 'keines', 'keinginan', 'keinä', 'keissä', 'keistä', 'keitä', 'kelamaan', 'kelihatan', 'kelihatannya', 'kelima', 'kell', 'kellett', 'keluar', 'kembali', 'kemudian', 'kemungkinan', 'kemungkinannya', 'kenapa', 'keneen', 'keneksi', 'kenelle', 'kenellä', 'keneltä', 'kenen', 'kenenä', 'kenessä', 'kenestä', 'kenet', 'kepada', 'kepadanya', 'ker', 'keressünk', 'keresztül', 'kesampaian', 'keseluruhan', 'keseluruhannya', 'keterlaluan', 'ketika', 'ketkä', 'ketkä', 'ketä', 'kez', 'khususnya', 'ki', 'ki', 'ki', 'ki', 'kim', 'kim', 'kimi', 'kimə', 'kini', 'kinilah', 'kira', 'kira-kira', 'kiranya', 'kita', 'kitalah', 'kljub', 'ko', 'koga', 'kogar', 'kogarkoli', 'kok', 'koli', 'kolik', 'kolika', 'kolike', 'kolikega', 'kolikem', 'kolikemu', 'koliki', 'kolikih', 'kolikim', 'kolikima', 'kolikimi', 'koliko', 'kolikor', 'kolikšen', 'kolikšna', 'kolikšne', 'kolikšnega', 'kolikšnem', 'kolikšnemu', 'kolikšni', 'kolikšnih', 'kolikšnim', 'kolikšnima', 'kolikšnimi', 'kolikšno', 'kom', 'kom', 'komaj', 'komer', 'komerkoli', 'komu', 'komur', 'komurkoli', 'kon', 'korleis', 'korso', 'koska', 'kot', 'krog', 'kuin', 'kuka', 'kun', 'kun', 'kunde', 'kunne', 'kunne', 'kunnen', 'kurang', 'kva', 'kvar', 'kvarhelst', 'kven', 'kvi', 'kvifor', 'kívül', 'können', 'könnte', 'között', 'közül', 'l', 'l', 'la', 'la', 'la', 'la', 'lagi', 'lagian', 'lah', 'lain', 'lainnya', 'lakin', 'lalu', 'lama', 'lamanya', 'lanjut', 'lanjutnya', 'lap', 'las', 'le', 'le', 'le', 'le', 'le', 'le-ona', 'le-one', 'le-onega', 'le-onem', 'le-onemu', 'le-oni', 'le-onih', 'le-onim', 'le-onima', 'le-onimi', 'le-ono', 'le-ta', 'le-tak', 'le-taka', 'le-take', 'le-takega', 'le-takem', 'le-takemu', 'le-taki', 'le-takih', 'le-takim', 'le-takima', 'le-takimi', 'le-tako', 'le-takšen', 'le-takšna', 'le-takšne', 'le-takšnega', 'le-takšnem', 'le-takšnemu', 'le-takšni', 'le-takšnih', 'le-takšnim', 'le-takšnima', 'le-takšnimi', 'le-takšno', 'le-te', 'le-tega', 'le-teh', 'le-tej', 'le-tem', 'le-tema', 'le-temi', 'le-temu', 'le-ti', 'le-tista', 'le-tiste', 'le-tistega', 'le-tistem', 'le-tistemu', 'le-tisti', 'le-tistih', 'le-tistim', 'le-tistima', 'le-tistimi', 'le-tisto', 'le-to', 'le-toliko', 'lebih', 'legalább', 'legyen', 'lehet', 'lehetett', 'lei', 'lenne', 'lenni', 'les', 'les', 'lesz', 'lett', 'leur', 'lewat', 'lhe', 'lhes', 'li', 'li', 'lima', 'll', 'lo', 'lo', 'lor', 'loro', 'los', 'luar', 'lui', 'lui', 'lui', 'lângă', 'lîngă', 'm', 'm', 'm', 'ma', 'ma', 'ma', 'ma', 'maar', 'macam', 'machen', 'maga', 'magát', 'mai', 'mais', 'mais', 'majd', 'majd', 'maka', 'makanya', 'makin', 'malah', 'malahan', 'malone', 'mampu', 'mampukah', 'man', 'man', 'man', 'man', 'mana', 'manakala', 'manalagi', 'manche', 'manchem', 'manchen', 'mancher', 'manches', 'mange', 'mange', 'mano', 'mar', 'mara', 'maraj', 'marajmo', 'marajo', 'marajta', 'marajte', 'marajva', 'maral', 'marala', 'marale', 'marali', 'maralo', 'maram', 'maramo', 'marata', 'marate', 'marati', 'marava', 'maraš', 'marsikaj', 'marsikatera', 'marsikatere', 'marsikaterega', 'marsikaterem', 'marsikateremu', 'marsikateri', 'marsikaterih', 'marsikaterim', 'marsikaterima', 'marsikaterimi', 'marsikatero', 'marsikdo', 'marsikoga', 'marsikom', 'marsikomu', 'marsičem', 'marsičemu', 'marsičesa', 'marsičim', 'marveč', 'mas', 'masa', 'masalah', 'masalahnya', 'masih', 'masihkah', 'masing', 'masing-masing', 'mau', 'maupun', 'me', 'me', 'me', 'me', 'me', 'me', 'me', 'me', 'mea', 'med', 'med', 'med', 'med', 'medan', 'mednje', 'mednju', 'medse', 'meer', 'meg', 'meg', 'meget', 'meget', 'mei', 'meidän', 'meidät', 'meihin', 'meille', 'meillä', 'meiltä', 'mein', 'meine', 'meinem', 'meinen', 'meiner', 'meines', 'meissä', 'meistä', 'meitä', 'melainkan', 'melakukan', 'melalui', 'mele', 'melihat', 'melihatnya', 'mellan', 'mellett', 'mellom', 'mely', 'melyek', 'memang', 'memastikan', 'memberi', 'memberikan', 'membuat', 'memerlukan', 'memihak', 'meminta', 'memintakan', 'memisalkan', 'memperbuat', 'mempergunakan', 'memperkirakan', 'memperlihatkan', 'mempersiapkan', 'mempersoalkan', 'mempertanyakan', 'mempunyai', 'memulai', 'memungkinkan', 'men', 'men', 'men', 'men', 'menaiki', 'menambahkan', 'menandaskan', 'menanti', 'menanti-nanti', 'menantikan', 'menanya', 'menanyai', 'menanyakan', 'menda', 'mendapat', 'mendapatkan', 'mendatang', 'mendatangi', 'mendatangkan', 'mene', 'menegaskan', 'mengakhiri', 'mengapa', 'mengatakan', 'mengatakannya', 'mengenai', 'mengerjakan', 'mengetahui', 'menggunakan', 'menghendaki', 'mengibaratkan', 'mengibaratkannya', 'mengingat', 'mengingatkan', 'menginginkan', 'mengira', 'mengucapkan', 'mengucapkannya', 'mengungkapkan', 'meni', 'menjadi', 'menjawab', 'menjelaskan', 'menoj', 'menuju', 'menunjuk', 'menunjuki', 'menunjukkan', 'menunjuknya', 'menurut', 'menuturkan', 'menyampaikan', 'menyangkut', 'menyatakan', 'menyebutkan', 'menyeluruh', 'menyiapkan', 'merasa', 'mereka', 'merekalah', 'mereu', 'mert', 'merupakan', 'mes', 'meski', 'meskipun', 'mesmo', 'met', 'meu', 'meu', 'meus', 'meyakini', 'meyakinkan', 'mi', 'mi', 'mi', 'mi', 'mi', 'mi', 'mia', 'mich', 'midva', 'mie', 'mie', 'miei', 'mig', 'mig', 'mightn', \"mightn't\", 'mihin', 'mij', 'mijn', 'mikor', 'miksi', 'mikä', 'mille', 'millä', 'miltä', 'milyen', 'mimo', 'min', 'min', 'min', 'mina', 'minden', 'mindenki', 'mindent', 'mindig', 'mine', 'mine', 'mine', 'minha', 'minhas', 'minkä', 'minkä', 'mint', 'minta', 'mintha', 'minua', 'minulla', 'minulle', 'minulta', 'minun', 'minussa', 'minusta', 'minut', 'minuun', 'minä', 'minä', 'mio', 'mir', 'mirip', 'mirşey', 'mis', 'misal', 'misalkan', 'misalnya', 'missä', 'mistä', 'mit', 'mit', 'mit', 'mitkä', 'mitt', 'mitt', 'mitä', 'mivel', 'miért', 'mnogo', 'mod', 'mod', 'moet', 'mogel', 'mogla', 'mogle', 'mogli', 'moglo', 'moi', 'moj', 'moja', 'moje', 'mojega', 'mojem', 'mojemu', 'moji', 'mojih', 'mojim', 'mojima', 'mojimi', 'mojo', 'mon', 'mora', 'morajo', 'moral', 'morala', 'morale', 'morali', 'moralo', 'moram', 'moramo', 'morata', 'morate', 'morati', 'morava', 'moraš', 'morda', 'more', 'more', 'morebiti', 'morejo', 'morem', 'moremo', 'moreta', 'morete', 'moreva', 'moreš', 'most', 'most', 'mot', 'mot', 'moči', 'mu', 'mu', 'mucho', 'muchos', 'muito', 'mukaan', 'mula', 'mulai', 'mulailah', 'mulanya', 'mult', 'multa', 'multe', 'multi', 'multă', 'mulţi', 'mungkin', 'mungkinkah', 'muss', 'musste', 'mustn', \"mustn't\", 'mutta', 'muy', 'my', 'mycket', 'mykje', 'myself', 'már', 'más', 'más', 'másik', 'mâine', 'még', 'même', 'mí', 'mía', 'mías', 'míg', 'mío', 'míos', 'mîine', 'mü', 'mă', 'mı', 'məhz', 'mən', 'mənə', 'n', 'na', 'na', 'na', 'naar', 'nach', 'nad', 'nada', 'nadenj', 'nadme', 'nadnje', 'nadvse', 'nagy', 'nagyobb', 'nagyon', 'nah', 'naik', 'naj', 'najbrž', 'najin', 'najina', 'najine', 'najinega', 'najinem', 'najinemu', 'najini', 'najinih', 'najinim', 'najinima', 'najinimi', 'najino', 'najsi', 'naju', 'nam', 'nama', 'name', 'namesto', 'nami', 'namreč', 'namun', 'nanj', 'nanje', 'nanjo', 'nanju', 'nanti', 'nantinya', 'naokoli', 'naproti', 'nas', 'nas', 'nase', 'nasproti', 'nasıl', 'nate', 'navkljub', 'navzlic', 'naš', 'naša', 'naše', 'našega', 'našem', 'našemu', 'naši', 'naših', 'našim', 'našima', 'našimi', 'našo', 'ne', 'ne', 'ne', 'ne', 'ne', 'ne', 'ne', 'ned', 'ned', 'neden', 'needn', \"needn't\", 'negl', 'negli', 'nei', 'nek', 'neka', 'nekaj', 'nekak', 'nekaka', 'nekake', 'nekakega', 'nekakem', 'nekakemu', 'nekaki', 'nekakih', 'nekakim', 'nekakima', 'nekakimi', 'nekako', 'nekakšen', 'nekakšna', 'nekakšne', 'nekakšnega', 'nekakšnem', 'nekakšnemu', 'nekakšni', 'nekakšnih', 'nekakšnim', 'nekakšnima', 'nekakšnimi', 'nekakšno', 'nekatera', 'nekatere', 'nekaterega', 'nekaterem', 'nekateremu', 'nekateri', 'nekaterih', 'nekaterim', 'nekaterima', 'nekaterimi', 'nekatero', 'nekdo', 'neke', 'nekega', 'nekem', 'nekem', 'nekemu', 'neki', 'neki', 'nekih', 'nekim', 'nekima', 'nekimi', 'neko', 'nekoga', 'nekoliko', 'nekom', 'nekomu', 'nel', 'nell', 'nella', 'nelle', 'nello', 'nem', 'nem', 'nemara', 'nerad', 'neradi', 'nerde', 'nerede', 'nereye', 'nečem', 'nečemu', 'nečesa', 'nečim', 'ni', 'ni', 'ni', 'ni', 'nicht', 'nichts', 'nici', 'niet', 'niets', 'nihče', 'niiden', 'niihin', 'niiksi', 'niille', 'niillä', 'niiltä', 'niin', 'niin', 'niinä', 'niissä', 'niistä', 'niitä', 'nikakršen', 'nikakršna', 'nikakršne', 'nikakršnega', 'nikakršnem', 'nikakršnemu', 'nikakršni', 'nikakršnih', 'nikakršnim', 'nikakršnima', 'nikakršnimi', 'nikakršno', 'nikar', 'nikogar', 'nikomer', 'nikomur', 'nimeni', 'nimic', 'nincs', 'nisem', 'nisi', 'nismo', 'niso', 'nista', 'niste', 'niste', 'nisva', 'niti', 'niye', 'niyə', 'niçin', 'nič', 'ničemer', 'ničemur', 'ničesar', 'ničimer', 'nişte', 'nje', 'njega', 'njegov', 'njegova', 'njegove', 'njegovega', 'njegovem', 'njegovemu', 'njegovi', 'njegovih', 'njegovim', 'njegovima', 'njegovimi', 'njegovo', 'njej', 'njem', 'njemu', 'njen', 'njena', 'njene', 'njenega', 'njenem', 'njenemu', 'njeni', 'njenih', 'njenim', 'njenima', 'njenimi', 'njeno', 'nji', 'njih', 'njihov', 'njihova', 'njihove', 'njihovega', 'njihovem', 'njihovemu', 'njihovi', 'njihovih', 'njihovim', 'njihovima', 'njihovimi', 'njihovo', 'njiju', 'njim', 'njima', 'njimi', 'njo', 'njun', 'njuna', 'njune', 'njunega', 'njunem', 'njunemu', 'njuni', 'njunih', 'njunim', 'njunima', 'njunimi', 'njuno', 'no', 'no', 'no', 'no', 'noastre', 'noastră', 'noben', 'nobena', 'nobene', 'nobenega', 'nobenem', 'nobenemu', 'nobeni', 'nobenih', 'nobenim', 'nobenima', 'nobenimi', 'nobeno', 'noch', 'noe', 'noen', 'nog', 'noget', 'nogle', 'noi', 'noi', 'noiden', 'noihin', 'noiksi', 'noilla', 'noille', 'noilta', 'noin', 'noina', 'noissa', 'noista', 'noita', 'noka', 'noko', 'nokon', 'nokor', 'nokre', 'non', 'nor', 'nos', 'nos', 'nos', 'nosotras', 'nosotros', 'nossa', 'nossas', 'nosso', 'nossos', 'nostra', 'nostre', 'nostri', 'nostri', 'nostro', 'nostru', 'not', 'notre', 'nou', 'noua', 'nous', 'nouă', 'now', 'noče', 'nočejo', 'nočem', 'nočemo', 'nočeta', 'nočete', 'nočeva', 'nočeš', 'noştri', 'nu', 'nu', 'nu', 'nu', 'nuestra', 'nuestras', 'nuestro', 'nuestros', 'num', 'numa', 'numai', 'nun', 'nuo', 'nur', 'nyaris', 'nyatanya', 'nyt', 'não', 'näiden', 'näihin', 'näiksi', 'näille', 'näillä', 'näiltä', 'näinä', 'näissä', 'näistä', 'näitä', 'nämä', 'när', 'nå', 'någon', 'något', 'några', 'når', 'når', 'néha', 'néhány', 'nélkül', 'nós', 'nə', 'nəhayət', 'o', 'o', 'o', 'o', 'o', 'o', 'o', 'o', 'ob', 'ob', 'oba', 'obe', 'obeh', 'obema', 'obenj', 'obirisi', 'och', 'od', 'oder', 'odkar', 'of', 'of', 'of', 'off', 'også', 'også', 'ohne', 'okoli', 'okrog', 'olan', 'olar', 'olaraq', 'oldu', 'olduğu', 'ole', 'oleh', 'olehnya', 'olemme', 'olen', 'olet', 'olette', 'oli', 'olimme', 'olin', 'olisi', 'olisimme', 'olisin', 'olisit', 'olisitte', 'olisivat', 'olit', 'olitte', 'olivat', 'olla', 'olleet', 'ollut', 'olmadı', 'olmaz', 'olmuşdur', 'olsun', 'olur', 'olyan', 'om', 'om', 'om', 'om', 'omdat', 'on', 'on', 'on', 'on', 'on', 'ona', 'ona', 'onadva', 'once', 'ondan', 'onder', 'one', 'onedve', 'onega', 'onem', 'onemu', 'oni', 'onidve', 'onih', 'onim', 'onima', 'onimi', 'onkraj', 'onlar', 'onlardan', 'onların ', 'only', 'ono', 'ons', 'onstran', 'onsuzda', 'ont', 'onu', 'onun', 'ook', 'op', 'op', 'opp', 'or', 'or', 'oradan', 'ori', 'oricare', 'orice', 'oricine', 'oricum', 'oricând', 'oricât', 'oricînd', 'oricît', 'oriunde', 'os', 'os', 'os', 'osem', 'osemdeset', 'osemdeseta', 'osemdesete', 'osemdesetega', 'osemdesetem', 'osemdesetemu', 'osemdeseti', 'osemdesetih', 'osemdesetim', 'osemdesetima', 'osemdesetimi', 'osemdeseto', 'osemindevetdeset', 'osemindevetdesetih', 'osemindevetdesetim', 'osemindevetdesetimi', 'oseminštirideset', 'oseminštiridesetih', 'oseminštiridesetim', 'oseminštiridesetimi', 'osemnajst', 'osemnajsta', 'osemnajste', 'osemnajstega', 'osemnajstem', 'osemnajstemu', 'osemnajsti', 'osemnajstih', 'osemnajstim', 'osemnajstima', 'osemnajstimi', 'osemnajsto', 'osma', 'osme', 'osmega', 'osmem', 'osmemu', 'osmi', 'osmih', 'osmim', 'osmima', 'osmimi', 'osmo', 'oss', 'oss', 'other', 'otra', 'otras', 'otro', 'otros', 'ott', 'otuz', 'ou', 'ou', 'our', 'ours', 'ourselves', 'out', 'ovat', 'over', 'over', 'over', 'over', 'own', 'oziroma', 'pa', 'pada', 'padahal', 'padanya', 'pai', 'pak', 'paling', 'panjang', 'pantas', 'par', 'para', 'para', 'para', 'parca', 'pas', 'pasti', 'pastilah', 'patra', 'patru', 'pač', 'pe', 'pedig', 'pela', 'pelas', 'pelo', 'pelos', 'penting', 'pentingnya', 'pentru', 'per', 'per', 'perché', 'percuma', 'perlu', 'perlukah', 'perlunya', 'pernah', 'pero', 'persoalan', 'persze', 'pertama', 'pertama-tama', 'pertanyaan', 'pertanyakan', 'peste', 'pet', 'peta', 'petdeset', 'petdeseta', 'petdesete', 'petdesetega', 'petdesetem', 'petdesetemu', 'petdeseti', 'petdesetih', 'petdesetim', 'petdesetima', 'petdesetimi', 'petdeseto', 'pete', 'petega', 'petem', 'petemu', 'peter', 'petera', 'petere', 'peterega', 'peterem', 'peteremu', 'peteri', 'peterih', 'peterim', 'peterima', 'peterimi', 'petero', 'peti', 'petih', 'petim', 'petima', 'petimi', 'petindevetdeset', 'petindevetdesetih', 'petindevetdesetim', 'petindevetdesetimi', 'petindvajset', 'petindvajseta', 'petindvajsete', 'petindvajsetega', 'petindvajsetem', 'petindvajsetemu', 'petindvajseti', 'petindvajsetih', 'petindvajsetim', 'petindvajsetima', 'petindvajsetimi', 'petindvajseto', 'petinosemdeset', 'petinosemdeseta', 'petinosemdesete', 'petinosemdesetega', 'petinosemdesetem', 'petinosemdesetemu', 'petinosemdeseti', 'petinosemdesetih', 'petinosemdesetim', 'petinosemdesetima', 'petinosemdesetimi', 'petinosemdeseto', 'petinpetdeset', 'petinpetdesetih', 'petinpetdesetim', 'petinpetdesetimi', 'petinsedemdeset', 'petinsedemdesetih', 'petinsedemdesetim', 'petinsedemdesetimi', 'petintrideset', 'petintrideseta', 'petintridesete', 'petintridesetega', 'petintridesetem', 'petintridesetemu', 'petintrideseti', 'petintridesetih', 'petintridesetim', 'petintridesetima', 'petintridesetimi', 'petintrideseto', 'petinštirideset', 'petinštirideseta', 'petinštiridesete', 'petinštiridesetega', 'petinštiridesetem', 'petinštiridesetemu', 'petinštirideseti', 'petinštiridesetih', 'petinštiridesetim', 'petinštiridesetima', 'petinštiridesetimi', 'petinštirideseto', 'petnajst', 'petnajsta', 'petnajste', 'petnajstega', 'petnajstem', 'petnajstemu', 'petnajsti', 'petnajstih', 'petnajstim', 'petnajstima', 'petnajstimi', 'petnajsto', 'peto', 'petsto', 'petstotih', 'petstotim', 'petstotimi', 'pic', 'pihak', 'pihaknya', 'pina', 'più', 'po', 'poate', 'poco', 'pod', 'podnjo', 'pogodu', 'poikki', 'poleg', 'pome', 'ponj', 'ponje', 'ponjo', 'por', 'por', 'porque', 'pot', 'pote', 'pour', 'povrh', 'povrhu', 'prav', 'pravzaprav', 'prea', 'precej', 'pred', 'preden', 'predenj', 'predme', 'prednje', 'predse', 'predvsem', 'prek', 'preko', 'preprosto', 'pri', 'prima', 'primul', 'prin', 'printr-', 'proti', 'prva', 'prve', 'prvega', 'prvem', 'prvemu', 'prvi', 'prvih', 'prvim', 'prvima', 'prvimi', 'prvo', 'pukul', 'pula', 'pun', 'punya', 'putini', 'puţin', 'puţina', 'puţină', 'până', 'på', 'på', 'på', 'pînă', 'qarşı', 'qu', 'qual', 'quale', 'quando', 'quanta', 'quante', 'quanti', 'quanto', 'que', 'que', 'que', 'quella', 'quelle', 'quelli', 'quello', 'quem', 'questa', 'queste', 'questi', 'questo', 'qui', 'quien', 'quienes', 'qué', 'qırx', 'qədər', 'rad', 'rada', 'rade', 'radi', 'rasa', 'rasanya', 'rata', 'ravno', 'raz', 'razen', 're', 'reeds', 'res', 'resda', 'rupanya', 'rá', 's', 's', 's', 's', 'sa', 'sa', 'sa-mi', 'sa-ti', 'saat', 'saat', 'saatnya', 'sabo', 'sadəcə', 'sai', 'saj', 'saja', 'sajalah', 'saját', 'sale', 'saling', 'sama', 'sama-sama', 'sambil', 'same', 'samma', 'samme', 'samo', 'sampai', 'sampai-sampai', 'sampaikan', 'sana', 'sangat', 'sangatlah', 'saniyə', 'sanki', 'sarai', 'saranno', 'sarebbe', 'sarebbero', 'sarei', 'saremmo', 'saremo', 'sareste', 'saresti', 'sarete', 'sarà', 'sarò', 'satu', 'sau', 'saya', 'sayalah', 'se', 'se', 'se', 'se', 'se', 'se', 'se', 'se', 'sea', 'seamos', 'sean', 'seas', 'sebab', 'sebabnya', 'sebagai', 'sebagaimana', 'sebagainya', 'sebagian', 'sebaik', 'sebaik-baiknya', 'sebaiknya', 'sebaliknya', 'sebanyak', 'sebe', 'sebegini', 'sebegitu', 'sebelum', 'sebelumnya', 'sebenarnya', 'seberapa', 'sebesar', 'sebetulnya', 'sebi', 'sebisanya', 'seboj', 'sebuah', 'sebut', 'sebutlah', 'sebutnya', 'secara', 'secukupnya', 'sedan', 'sedang', 'sedangkan', 'sedem', 'sedemdeset', 'sedemdeseta', 'sedemdesete', 'sedemdesetega', 'sedemdesetem', 'sedemdesetemu', 'sedemdeseti', 'sedemdesetih', 'sedemdesetim', 'sedemdesetima', 'sedemdesetimi', 'sedemdeseto', 'sedemikian', 'sedemindvajset', 'sedemindvajseta', 'sedemindvajsete', 'sedemindvajsetega', 'sedemindvajsetem', 'sedemindvajsetemu', 'sedemindvajseti', 'sedemindvajsetih', 'sedemindvajsetim', 'sedemindvajsetima', 'sedemindvajsetimi', 'sedemindvajseto', 'sedeminpetdeset', 'sedeminpetdesetih', 'sedeminpetdesetim', 'sedeminpetdesetimi', 'sedeminšestdeset', 'sedeminšestdesetih', 'sedeminšestdesetim', 'sedeminšestdesetimi', 'sedemnajst', 'sedemnajsta', 'sedemnajste', 'sedemnajstega', 'sedemnajstem', 'sedemnajstemu', 'sedemnajsti', 'sedemnajstih', 'sedemnajstim', 'sedemnajstima', 'sedemnajstimi', 'sedemnajsto', 'sedemsto', 'sedemstotih', 'sedemstotim', 'sedemstotimi', 'sedikit', 'sedikitnya', 'sedma', 'sedme', 'sedmega', 'sedmem', 'sedmemu', 'sedmi', 'sedmih', 'sedmim', 'sedmima', 'sedmimi', 'sedmo', 'seenaknya', 'seg', 'segala', 'segalanya', 'segera', 'seharusnya', 'sehingga', 'sehr', 'sei', 'sein', 'seine', 'seinem', 'seinen', 'seiner', 'seines', 'seingat', 'seja', 'sejak', 'sejam', 'sejamos', 'sejauh', 'sejenak', 'sejumlah', 'sekadar', 'sekadarnya', 'sekali', 'sekali-kali', 'sekalian', 'sekaligus', 'sekalipun', 'sekarang', 'sekarang', 'sekecil', 'seketika', 'sekiranya', 'sekitar', 'sekitarnya', 'sekurang-kurangnya', 'sekurangnya', 'sekä', 'sela', 'selain', 'selaku', 'selalu', 'selama', 'selama-lamanya', 'selamanya', 'selanjutnya', 'selbst', 'seluruh', 'seluruhnya', 'selv', 'selv', 'sem', 'sem', 'sem', 'semacam', 'semakin', 'semampu', 'semampunya', 'semasa', 'semasih', 'semata', 'semata-mata', 'semaunya', 'sementara', 'semisal', 'semisalnya', 'semmi', 'sempat', 'semua', 'semuanya', 'semula', 'sen', 'sendiri', 'sendirian', 'sendirinya', 'sentid', 'sentida', 'sentidas', 'sentido', 'sentidos', 'seolah', 'seolah-olah', 'seorang', 'sepanjang', 'sepantasnya', 'sepantasnyalah', 'seperlunya', 'seperti', 'sepertinya', 'sepihak', 'sera', 'serai', 'seraient', 'serais', 'serait', 'seras', 'serei', 'seremos', 'seremos', 'serez', 'seria', 'seriam', 'seriez', 'sering', 'seringnya', 'serions', 'serons', 'seront', 'serta', 'serupa', 'será', 'será', 'serán', 'serás', 'serão', 'seré', 'seréis', 'sería', 'seríais', 'seríamos', 'seríamos', 'serían', 'serías', 'ses', 'sesaat', 'sesama', 'sesampai', 'sesegera', 'sesekali', 'seseorang', 'sesuatu', 'sesuatunya', 'sesudah', 'sesudahnya', 'setelah', 'setempat', 'setengah', 'seterusnya', 'setiap', 'setiba', 'setibanya', 'setidak-tidaknya', 'setidaknya', 'setinggi', 'seu', 'seus', 'seusai', 'seveda', 'sewaktu', 'seáis', 'shan', \"shan't\", 'she', \"she's\", 'should', \"should've\", 'shouldn', \"shouldn't\", 'si', 'si', 'si', 'si', 'si', 'sia', 'sia', 'siamo', 'siano', 'siap', 'siapa', 'siapakah', 'siapapun', 'siate', 'sicer', 'sich', 'sidan', 'siden', 'sie', 'siente', 'siete', 'sig', 'sig', 'siihen', 'siinä', 'siitä', 'siksi', 'sille', 'sillä', 'sillä', 'siltä', 'sin', 'sin', 'sin', 'sin', 'sina', 'sind', 'sine', 'sine', 'sini', 'sinilah', 'sint', 'sintem', 'sintiendo', 'sinua', 'sinulla', 'sinulle', 'sinulta', 'sinun', 'sinussa', 'sinusta', 'sinut', 'sinuun', 'sinä', 'sinä', 'sit', 'sitt', 'sitta', 'sitä', 'siz', 'siz', 'sizin', 'sizlər', 'själv', 'sjøl', 'skal', 'skal', 'skoraj', 'skorajda', 'skoz', 'skozenj', 'skozi', 'skoznje', 'skoznjo', 'skozte', 'skulle', 'skulle', 'skulle', 'slik', 'sme', 'smejo', 'smel', 'smela', 'smele', 'smeli', 'smelo', 'smem', 'smemo', 'smeta', 'smete', 'smeti', 'smeva', 'smeš', 'smo', 'so', 'so', 'so', 'so', 'soal', 'soalnya', 'sobre', 'soient', 'sois', 'sois', 'soit', 'sok', 'sokat', 'sokkal', 'solche', 'solchem', 'solchen', 'solcher', 'solches', 'soll', 'sollte', 'som', 'som', 'som', 'som', 'some', 'somme', 'sommes', 'somos', 'somos', 'somt', 'son', 'son', 'sondern', 'sono', 'sonra', 'sonst', 'sont', 'sou', 'soy', 'soyez', 'soyons', 'spate', 'spet', 'sploh', 'spod', 'spre', 'spričo', 'sredi', 'sta', 'sta', 'stai', 'stando', 'stanno', 'starai', 'staranno', 'starebbe', 'starebbero', 'starei', 'staremmo', 'staremo', 'stareste', 'staresti', 'starete', 'starà', 'starò', 'stava', 'stavamo', 'stavano', 'stavate', 'stavi', 'stavo', 'ste', 'stemmo', 'stesse', 'stessero', 'stessi', 'stessimo', 'steste', 'stesti', 'stette', 'stettero', 'stetti', 'stia', 'stiamo', 'stiano', 'stiate', 'sto', 'sto', 'stota', 'stote', 'stotega', 'stotem', 'stotemu', 'stoter', 'stotera', 'stotere', 'stoterega', 'stoterem', 'stoteremu', 'stoteri', 'stoterih', 'stoterim', 'stoterima', 'stoterimi', 'stotero', 'stoti', 'stotih', 'stotim', 'stotima', 'stotimi', 'stoto', 'su', 'su', 'sua', 'sua', 'suas', 'suatu', 'sub', 'such', 'sudah', 'sudahkah', 'sudahlah', 'sue', 'sugl', 'sugli', 'sui', 'suis', 'sul', 'sull', 'sulla', 'sulle', 'sullo', 'sunt', 'suntem', 'sunteţi', 'suo', 'suoi', 'supaya', 'sur', 'sus', 'sus', 'suya', 'suyas', 'suyo', 'suyos', 'sva', 'svoj', 'svoja', 'svoje', 'svojega', 'svojem', 'svojemu', 'svoji', 'svojih', 'svojim', 'svojima', 'svojimi', 'svojo', 'szemben', 'szerint', 'szinte', 'számára', 'são', 'så', 'så', 'sådan', 'sådan', 'sådana', 'sådant', 'sånn', 'sí', 'só', 'să', 'săi', 'său', 'səhv', 'səkkiz', 'səksən', 'sən', 'sənin', 'sənə', 't', 't', 't', 'ta', 'ta', 'ta', 'tabo', 'tadi', 'tadinya', 'tahu', 'tahun', 'tai', 'tak', 'tak', 'taka', 'takale', 'take', 'takega', 'takegale', 'takele', 'takem', 'takemle', 'takemu', 'takemule', 'taki', 'takih', 'takihle', 'takile', 'takim', 'takima', 'takimale', 'takimi', 'takimile', 'takimle', 'takle', 'tako', 'takole', 'takšen', 'takšna', 'takšne', 'takšnega', 'takšnem', 'takšnemu', 'takšni', 'takšnih', 'takšnim', 'takšnima', 'takšnimi', 'takšno', 'tale', 'tale', 'tallä', 'talán', 'tambah', 'tambahnya', 'también', 'também', 'tampak', 'tampaknya', 'tandas', 'tandasnya', 'tanpa', 'tanto', 'tanya', 'tanyakan', 'tanyanya', 'tapi', 'te', 'te', 'te', 'te', 'te', 'te', 'te', 'tebe', 'tebi', 'teboj', 'tega', 'tegale', 'tegas', 'tegasnya', 'tegen', 'teh', 'tehle', 'tehát', 'teidän', 'teidät', 'teihin', 'teille', 'teillä', 'teiltä', 'teissä', 'teistä', 'teitä', 'tej', 'tejle', 'telah', 'tele', 'teljes', 'tem', 'tem', 'tema', 'temale', 'temi', 'temile', 'temle', 'temos', 'tempat', 'temu', 'temuintemu', 'temule', 'temveč', 'tendremos', 'tendrá', 'tendrán', 'tendrás', 'tendré', 'tendréis', 'tendría', 'tendríais', 'tendríamos', 'tendrían', 'tendrías', 'tened', 'tenemos', 'tenga', 'tengah', 'tengamos', 'tengan', 'tengas', 'tengo', 'tengáis', 'tenha', 'tenham', 'tenhamos', 'tenho', 'tenida', 'tenidas', 'tenido', 'tenidos', 'teniendo', 'tentang', 'tentu', 'tentulah', 'tentunya', 'tenéis', 'tenía', 'teníais', 'teníamos', 'tenían', 'tenías', 'tepat', 'ter', 'terakhir', 'terasa', 'terbanyak', 'terdahulu', 'terdapat', 'terdiri', 'terei', 'teremos', 'terhadap', 'terhadapnya', 'teria', 'teriam', 'teringat', 'teringat-ingat', 'terjadi', 'terjadilah', 'terjadinya', 'terkira', 'terlalu', 'terlebih', 'terlihat', 'termasuk', 'ternyata', 'tersampaikan', 'tersebut', 'tersebutlah', 'tertentu', 'tertuju', 'terus', 'terutama', 'terá', 'terão', 'teríamos', 'tes', 'tetap', 'tetapi', 'teu', 'teus', 'teve', 'than', 'that', \"that'll\", 'the', 'their', 'theirs', 'them', 'themselves', 'then', 'there', 'these', 'they', 'thi', 'this', 'those', 'through', 'ti', 'ti', 'ti', 'ti', 'tiap', 'tiba', 'tiba-tiba', 'tidak', 'tidakkah', 'tidaklah', 'tiene', 'tienen', 'tienes', 'tiga', 'til', 'til', 'tile', 'till', 'tine', 'tinggi', 'tinha', 'tinham', 'tisoč', 'tisoča', 'tisoče', 'tisočega', 'tisočem', 'tisočemu', 'tisočer', 'tisočera', 'tisočere', 'tisočerega', 'tisočerem', 'tisočeremu', 'tisočeri', 'tisočerih', 'tisočerim', 'tisočerima', 'tisočerimi', 'tisočero', 'tisoči', 'tisočih', 'tisočim', 'tisočima', 'tisočimi', 'tisočo', 'tista', 'tiste', 'tistega', 'tistem', 'tistemu', 'tisti', 'tistih', 'tistim', 'tistima', 'tistimi', 'tisto', 'tive', 'tivemos', 'tiver', 'tivera', 'tiveram', 'tiverem', 'tivermos', 'tivesse', 'tivessem', 'tivéramos', 'tivéssemos', 'to', 'to', 'toata', 'toate', 'toată', 'toch', 'tocmai', 'toda', 'todo', 'todos', 'toen', 'toh', 'toi', 'tole', 'tolik', 'tolika', 'tolike', 'tolikega', 'tolikem', 'tolikemu', 'toliki', 'tolikih', 'tolikim', 'tolikima', 'tolikimi', 'toliko', 'tolikšen', 'tolikšna', 'tolikšne', 'tolikšnega', 'tolikšnem', 'tolikšnemu', 'tolikšni', 'tolikšnih', 'tolikšnim', 'tolikšnima', 'tolikšnimi', 'tolikšno', 'ton', 'too', 'torej', 'tot', 'tot', 'toti', 'totul', 'totusi', 'totuşi', 'tovább', 'továbbá', 'toţi', 'tra', 'treh', 'trei', 'treia', 'treilea', 'trem', 'tremi', 'tretja', 'tretje', 'tretjega', 'tretjem', 'tretjemu', 'tretji', 'tretjih', 'tretjim', 'tretjima', 'tretjimi', 'tretjo', 'tri', 'trideset', 'trideseta', 'tridesete', 'tridesetega', 'tridesetem', 'tridesetemu', 'trideseti', 'tridesetih', 'tridesetim', 'tridesetima', 'tridesetimi', 'trideseto', 'triindvajset', 'triindvajseta', 'triindvajsete', 'triindvajsetega', 'triindvajsetem', 'triindvajsetemu', 'triindvajseti', 'triindvajsetih', 'triindvajsetim', 'triindvajsetima', 'triindvajsetimi', 'triindvajseto', 'triinpetdeset', 'triinpetdesetih', 'triinpetdesetim', 'triinpetdesetimi', 'triintrideseta', 'triintridesete', 'triintridesetega', 'triintridesetem', 'triintridesetemu', 'triintrideseti', 'triintridesetih', 'triintridesetim', 'triintridesetima', 'triintridesetimi', 'triintrideseto', 'triinšestdeset', 'triinšestdesetih', 'triinšestdesetim', 'triinšestdesetimi', 'trije', 'trikraten', 'trikratna', 'trikratne', 'trikratnega', 'trikratnem', 'trikratnemu', 'trikratni', 'trikratnih', 'trikratnim', 'trikratnima', 'trikratnimi', 'trikratno', 'trinajst', 'trinajsta', 'trinajste', 'trinajstega', 'trinajstem', 'trinajstemu', 'trinajsti', 'trinajstih', 'trinajstim', 'trinajstima', 'trinajstimi', 'trinajsto', 'tristo', 'tristota', 'tristote', 'tristotega', 'tristotem', 'tristotemu', 'tristoti', 'tristotih', 'tristotim', 'tristotima', 'tristotimi', 'tristoto', 'troj', 'troja', 'troje', 'trojega', 'trojem', 'trojemu', 'trojen', 'troji', 'trojih', 'trojim', 'trojima', 'trojimi', 'trojna', 'trojne', 'trojnega', 'trojnem', 'trojnemu', 'trojni', 'trojnih', 'trojnim', 'trojnima', 'trojnimi', 'trojno', 'trojo', 'tu', 'tu', 'tu', 'tu', 'tu', 'tua', 'tua', 'tuas', 'tudi', 'tue', 'tunjuk', 'tuo', 'tuo', 'tuohon', 'tuoi', 'tuoksi', 'tuolla', 'tuolle', 'tuolta', 'tuon', 'tuona', 'tuossa', 'tuosta', 'tuotä', 'turut', 'tus', 'tutti', 'tutto', 'tutur', 'tuturnya', 'tuturor', 'tuve', 'tuviera', 'tuvierais', 'tuvieran', 'tuvieras', 'tuvieron', 'tuviese', 'tuvieseis', 'tuviesen', 'tuvieses', 'tuvimos', 'tuviste', 'tuvisteis', 'tuviéramos', 'tuviésemos', 'tuvo', 'tuya', 'tuyas', 'tuyo', 'tuyos', 'tvoj', 'tvoja', 'tvoje', 'tvojega', 'tvojem', 'tvojemu', 'tvoji', 'tvojih', 'tvojim', 'tvojima', 'tvojimi', 'tvojo', 'tähän', 'täksi', 'tälle', 'tältä', 'tämä', 'tämän', 'tänä', 'tässä', 'tästä', 'tätä', 'tém', 'tínhamos', 'több', 'tú', 'tüm', 'tăi', 'tău', 'təəssüf', 'u', 'u', 'ucap', 'ucapnya', 'ud', 'ugyanis', 'uit', 'ujar', 'ujarnya', 'ul', 'ului', 'um', 'um', 'um', 'uma', 'umum', 'umumnya', 'un', 'un', 'un', 'un', 'una', 'una', 'una', 'und', 'unde', 'under', 'under', 'under', 'undeva', 'une', 'unei', 'uneia', 'unele', 'uneori', 'ungkap', 'ungkapnya', 'unii', 'uno', 'uno', 'unor', 'unora', 'unos', 'uns', 'unser', 'unsere', 'unserem', 'unseren', 'unseres', 'unter', 'until', 'untuk', 'unu', 'unui', 'unuia', 'unul', 'up', 'upp', 'upp', 'usah', 'usai', 'ut', 'ut', 'utan', 'uten', 'utolsó', 'után', 'utána', 'uw', 'v', 'v', 'va', 'vaan', 'vad', 'vagy', 'vagyis', 'vagyok', 'vai', 'vaikka', 'vajin', 'vajina', 'vajine', 'vajinega', 'vajinem', 'vajinemu', 'vajini', 'vajinih', 'vajinim', 'vajinima', 'vajinimi', 'vajino', 'vaju', 'valaki', 'valami', 'valamint', 'való', 'vam', 'vama', 'vame', 'vami', 'van', 'van', 'vanj', 'vanje', 'vanjo', 'vanju', 'vannak', 'var', 'var', 'var', 'var', 'vara', 'varför', 'varit', 'varje', 'vars', 'vart', 'vart', 'varte', 'vas', 'vase', 'vate', 'vaš', 'vaša', 'vaše', 'vašega', 'vašem', 'vašemu', 'vaši', 'vaših', 'vašim', 'vašima', 'vašimi', 'vašo', 've', 've', 'ved', 'veel', 'vele', 'vem', 'vendar', 'vendarle', 'vere', 'verjetno', 'verte', 'very', 'ves', 'veya', 'vi', 'vi', 'vi', 'vi', 'vi', 'vi', 'vid', 'vidva', 'viel', 'vil', 'vil', 'vilka', 'vilkas', 'vilken', 'vilket', 'ville', 'ville', 'vissza', 'viszont', 'vnovič', 'voastre', 'voastră', 'você', 'vocês', 'voi', 'voi', 'volna', 'volt', 'voltak', 'voltam', 'voltunk', 'vom', 'vom', 'von', 'voor', 'vor', 'vor', 'vor', 'vore', 'vors', 'vort', 'vos', 'vos', 'vosotras', 'vosotros', 'vostra', 'vostre', 'vostri', 'vostro', 'vostru', 'votre', 'vous', 'vouă', 'voştri', 'vpričo', 'vred', 'vreo', 'vreun', 'vrh', 'vrhu', 'vsa', 'vsaj', 'vsak', 'vsaka', 'vsakdo', 'vsake', 'vsakega', 'vsakem', 'vsakemu', 'vsaki', 'vsakih', 'vsakim', 'vsakima', 'vsakimi', 'vsako', 'vsakogar', 'vsakomer', 'vsakomur', 'vsakršen', 'vsakršna', 'vsakršne', 'vsakršnega', 'vsakršnem', 'vsakršnemu', 'vsakršni', 'vsakršnih', 'vsakršnim', 'vsakršnima', 'vsakršnimi', 'vsakršno', 'vse', 'vsega', 'vseh', 'vsej', 'vsem', 'vsema', 'vsemi', 'vsemu', 'vsi', 'vso', 'vuestra', 'vuestras', 'vuestro', 'vuestros', 'vzdolž', 'vår', 'vår', 'våra', 'vårt', 'være', 'være', 'være', 'været', 'vært', 'vă', 'všeč', 'vštric', 'və', 'waduh', 'wah', 'wahai', 'waktu', 'waktunya', 'walau', 'walaupun', 'want', 'war', 'waren', 'waren', 'warst', 'was', 'was', 'was', 'wasn', \"wasn't\", 'wat', 'we', 'weg', 'weil', 'weiter', 'welche', 'welchem', 'welchen', 'welcher', 'welches', 'wenn', 'werd', 'werde', 'werden', 'were', 'weren', \"weren't\", 'wezen', 'what', 'when', 'where', 'which', 'while', 'who', 'whom', 'why', 'wie', 'wie', 'wieder', 'wil', 'will', 'will', 'wir', 'wird', 'wirst', 'with', 'wo', 'wollen', 'wollte', 'won', \"won't\", 'wong', 'worden', 'wordt', 'wouldn', \"wouldn't\", 'während', 'würde', 'würden', 'xan', 'xanım', 'xeyr', 'y', 'y', 'y', 'ya', 'ya', 'ya', 'yaitu', 'yakin', 'yakni', 'yalnız', 'yangad', 'yani', 'yaxşı', 'yeddi', 'yenə', 'yetmiş', 'yli', 'yo', 'you', \"you'd\", \"you'll\", \"you're\", \"you've\", 'your', 'yours', 'yourself', 'yourselves', 'yox', 'yoxdur', 'yoxsa', 'yüz', 'yəni', 'z', 'za', 'zadosti', 'zakaj', 'zal', 'zamanog', 'zame', 'zanj', 'zanje', 'zanjo', 'zanju', 'zapored', 'zaradi', 'zares', 'zase', 'zate', 'zavoljo', 'ze', 'zelf', 'zgolj', 'zi', 'zice', 'zich', 'zij', 'zijn', 'zlasti', 'zmogel', 'zmogl', 'zmogla', 'zmogle', 'zmogli', 'zmore', 'zmorejo', 'zmorem', 'zmoremo', 'zmoreta', 'zmorete', 'zmoreva', 'zmoreš', 'zmoči', 'zo', 'zonder', 'zoper', 'zopet', 'zou', 'zraven', 'zu', 'zum', 'zunaj', 'zur', 'zwar', 'zwischen', 'à', 'à', 'às', 'által', 'általában', 'át', 'än', 'är', 'å', 'åt', 'çok', 'çox', 'çünki', 'çünkü', 'è', 'é', 'él', 'én', 'éppen', 'éramos', 'éramos', 'és', 'étaient', 'étais', 'était', 'étant', 'étante', 'étantes', 'étants', 'étiez', 'étions', 'été', 'étée', 'étées', 'étés', 'êtes', 'így', 'îi', 'îl', 'îmi', 'în', 'îţi', 'õ', 'õk', 'õket', 'össze', 'över', 'öz', 'özü', 'úgy', 'új', 'újabb', 'újra', 'ü', 'über', 'üç', 'üçün', 'ăla', 'ălea', 'ăsta', 'ăstea', 'ăştia', 'če', 'čem', 'čemer', 'čemerkoli', 'čemu', 'čemur', 'čemurkoli', 'čeprav', 'čeravno', 'česa', 'česar', 'česarkoli', 'četrta', 'četrte', 'četrtega', 'četrtem', 'četrtemu', 'četrti', 'četrtih', 'četrtim', 'četrtima', 'četrtimi', 'četrto', 'četudi', 'čez', 'čezenj', 'čeznje', 'čigar', 'čigav', 'čigava', 'čigave', 'čigavega', 'čigavem', 'čigavemu', 'čigavi', 'čigavih', 'čigavim', 'čigavima', 'čigavimi', 'čigavo', 'čim', 'čimer', 'čimerkoli', 'ı', 'şey', 'şi', 'şu', 'še', 'šele', 'šest', 'šesta', 'šestdeset', 'šestdeseta', 'šestdesete', 'šestdesetega', 'šestdesetem', 'šestdesetemu', 'šestdeseti', 'šestdesetih', 'šestdesetim', 'šestdesetima', 'šestdesetimi', 'šestdeseto', 'šeste', 'šestega', 'šestem', 'šestemu', 'šesti', 'šestih', 'šestim', 'šestima', 'šestimi', 'šestindvajset', 'šestindvajsetih', 'šestindvajsetim', 'šestindvajsetimi', 'šestintrideset', 'šestintridesetih', 'šestintridesetim', 'šestintridesetimi', 'šestnajst', 'šestnajsta', 'šestnajste', 'šestnajstega', 'šestnajstem', 'šestnajstemu', 'šestnajsti', 'šestnajstih', 'šestnajstim', 'šestnajstima', 'šestnajstimi', 'šestnajsto', 'šesto', 'šeststo', 'šeststotih', 'šeststotim', 'šeststotimi', 'štiri', 'štirideset', 'štirideseta', 'štiridesete', 'štiridesetega', 'štiridesetem', 'štiridesetemu', 'štirideseti', 'štiridesetih', 'štiridesetim', 'štiridesetima', 'štiridesetimi', 'štirideseto', 'štirih', 'štiriindvajset', 'štiriindvajseta', 'štiriindvajsete', 'štiriindvajsetega', 'štiriindvajsetem', 'štiriindvajsetemu', 'štiriindvajseti', 'štiriindvajsetih', 'štiriindvajsetim', 'štiriindvajsetima', 'štiriindvajsetimi', 'štiriindvajseto', 'štirim', 'štirimi', 'štirinajst', 'štirinajsta', 'štirinajste', 'štirinajstega', 'štirinajstem', 'štirinajstemu', 'štirinajsti', 'štirinajstih', 'štirinajstim', 'štirinajstima', 'štirinajstimi', 'štirinajsto', 'štiristo', 'štiristotih', 'štiristotim', 'štiristotimi', 'štirje', 'ţi', 'ţieи', 'ž', 'žal', 'že', 'želel', 'želela', 'želele', 'želeli', 'želelo', 'želen', 'želena', 'želene', 'želeni', 'želeno', 'želeti', 'želi', 'želijo', 'želim', 'želimo', 'želita', 'želite', 'želiva', 'želiš', 'ə', 'əgər', 'əlbəttə', 'əlli', 'ən', 'əslində', 'αλλα', 'αν', 'αντι', 'απο', 'αυτα', 'αυτεσ', 'αυτη', 'αυτο', 'αυτοι', 'αυτοσ', 'αυτουσ', 'αυτων', 'αἱ', 'αἳ', 'αἵ', 'αὐτόσ', 'αὐτὸς', 'αὖ', 'γάρ', 'γα', 'γα^', 'γε', 'για', 'γοῦν', 'γὰρ', \"δ'\", 'δέ', 'δή', 'δαί', 'δαίσ', 'δαὶ', 'δαὶς', 'δε', 'δεν', \"δι'\", 'διά', 'διὰ', 'δὲ', 'δὴ', 'δ’', 'εαν', 'ειμαι', 'ειμαστε', 'ειναι', 'εισαι', 'ειστε', 'εκεινα', 'εκεινεσ', 'εκεινη', 'εκεινο', 'εκεινοι', 'εκεινοσ', 'εκεινουσ', 'εκεινων', 'ενω', 'επ', 'επι', 'εἰ', 'εἰμί', 'εἰμὶ', 'εἰς', 'εἰσ', 'εἴ', 'εἴμι', 'εἴτε', 'η', 'θα', 'ισωσ', 'κ', 'καί', 'καίτοι', 'καθ', 'και', 'κατ', 'κατά', 'κατα', 'κατὰ', 'καὶ', 'κι', 'κἀν', 'κἂν', 'μέν', 'μή', 'μήτε', 'μα', 'με', 'μεθ', 'μετ', 'μετά', 'μετα', 'μετὰ', 'μη', 'μην', 'μἐν', 'μὲν', 'μὴ', 'μὴν', 'να', 'ο', 'οι', 'ομωσ', 'οπωσ', 'οσο', 'οτι', 'οἱ', 'οἳ', 'οἷς', 'οὐ', 'οὐδ', 'οὐδέ', 'οὐδείσ', 'οὐδεὶς', 'οὐδὲ', 'οὐδὲν', 'οὐκ', 'οὐχ', 'οὐχὶ', 'οὓς', 'οὔτε', 'οὕτω', 'οὕτως', 'οὕτωσ', 'οὖν', 'οὗ', 'οὗτος', 'οὗτοσ', 'παρ', 'παρά', 'παρα', 'παρὰ', 'περί', 'περὶ', 'ποια', 'ποιεσ', 'ποιο', 'ποιοι', 'ποιοσ', 'ποιουσ', 'ποιων', 'ποτε', 'που', 'ποῦ', 'προ', 'προσ', 'πρόσ', 'πρὸ', 'πρὸς', 'πως', 'πωσ', 'σε', 'στη', 'στην', 'στο', 'στον', 'σόσ', 'σύ', 'σύν', 'σὸς', 'σὺ', 'σὺν', 'τά', 'τήν', 'τί', 'τίς', 'τίσ', 'τα', 'ταῖς', 'τε', 'την', 'τησ', 'τι', 'τινα', 'τις', 'τισ', 'το', 'τοί', 'τοι', 'τοιοῦτος', 'τοιοῦτοσ', 'τον', 'τοτε', 'του', 'τούσ', 'τοὺς', 'τοῖς', 'τοῦ', 'των', 'τό', 'τόν', 'τότε', 'τὰ', 'τὰς', 'τὴν', 'τὸ', 'τὸν', 'τῆς', 'τῆσ', 'τῇ', 'τῶν', 'τῷ', 'ωσ', 'а', 'а', 'агар', 'агар ', 'агар ки', 'агар чи', 'агар-чанд', 'агар-чи ', 'аз', 'аз ', 'аз афташ', 'аз баҳри он ки', 'аз рӯи', 'аз рӯйи ', 'аз-баски ', 'азбаски', 'азбаски ', 'ай', 'айтпақшы', 'ал', 'алайда', 'алатау', 'алақай', 'алдақашан', 'ало', 'аммо', 'ана', 'ана', 'ана ҳамин', 'анау', 'ар', 'арбаң-арбаң', 'арнайы', 'арс', 'арс-ұрс', 'арсалаң-арсалаң', 'арқылы', 'арқылы', 'асло', 'аст', 'астапыралла', 'ау', 'ау', 'ах', 'аё', 'аҳа', 'аҷабо', 'аһа', 'ба', 'ба тразе ки ', 'ба шарте', 'бай-бай', 'бале ', 'балки', 'бар', 'бар', 'барлық', 'барои', 'барои он ки', 'барша', 'барқ', 'батыр-бұтыр', 'баъд', 'баъд аз он ки', 'бе', 'бе он ки ', 'без', 'бері', 'бері', 'бетер', 'бетер', 'беу', 'бинобар', 'бинобар ин', 'бо', 'бо вуҷуди он ки', 'бо нияти он ки', 'бойы', 'бойы', 'бойымен', 'бойымен', 'более', 'болои ', 'болп', 'больше', 'борт', 'бояд', 'будет', 'будто', 'бы', 'был', 'была', 'были', 'было', 'былп', 'быть', 'біз', 'бізбен', 'бізге', 'бізден', 'біздер', 'біздерге', 'біздерден', 'біздердің', 'біздермен', 'біздің', 'біздің', 'бірақ', 'бірге', 'бірге', 'бірдеме', 'біреу', 'бірнеше', 'бірнеше', 'бүгжең-бүгжең', 'бүйт', 'бүкіл', 'бұл', 'бұндай', 'бұрын', 'бұрын', 'бәрекелді', 'бәрекелді', 'бәрі', 'в', 'ва', 'вале', 'валекин ', 'вам', 'вас', 'вақте ки', 'ваҳ', 'вдруг', 'ведь', 'во', 'вой-вой', 'вот', 'впрочем', 'все', 'всегда', 'всего', 'всех', 'всю', 'вы', 'гар ', 'гар-чи', 'гарчанде ки ', 'где', 'гүрс', 'гөрі', 'гөрі', 'гӯё', 'гӯё ки', 'да', 'даже', 'далаң-далаң', 'даме ки', 'дар', 'дар ҳолате ки', 'два', 'дегенмен', 'дейін', 'дейін', 'дида', 'для', 'до', 'другой', 'дүрс', 'дүңк', 'дәнеңе', 'е', 'его', 'ее', 'ей', 'ей', 'емес', 'ему', 'ербелең-ербелең', 'если', 'есть', 'еш', 'ешбір', 'ешкім', 'ештеме', 'ешқайсы', 'ешқандай', 'ешқашан', 'еще', 'ж', 'жалп', 'жалт-жалт', 'жалт-жұлт', 'жаракімалла', 'же', 'желп', 'жоқ', 'жуық', 'жуық', 'за', 'замон', 'замоно', 'зачем', 'здесь', 'зеро', 'зеро ки', 'и', 'ие', 'из', 'или', 'им', 'ин', 'иногда', 'инҷониб', 'их', 'к', 'кадом', 'как', 'какая', 'какой', 'канӣ', 'кейбір', 'кейбіреу', 'кейін', 'кейін', 'ки', 'когда', 'конечно', 'кошки ', 'кошкӣ', 'кто', 'куда', 'кірт', 'күллі', 'күрт', 'күшім', 'күшім', 'күңк', 'кә', 'кәне', 'кәнеки', 'кәні', 'кәһ', 'лекин', 'лекин ва ҳол он ки', 'ли', 'лучше', 'мабодо', 'магар ', 'майлаш куя', 'мана', 'масқарай', 'маған', 'маған', 'маңқ', 'между', 'мен', 'менде', 'менен', 'менен', 'меня', 'менімен', 'менің', 'митың-митың', 'мне', 'много', 'модоме ки', 'может', 'можно', 'мой', 'морт', 'моя', 'моһ', 'мы', 'мына', 'мынау', 'мышы', 'мыңқ', 'міне', 'міне', 'мұндай', 'мәссаған', 'на', 'на', 'на ин ки', 'над', 'надо', 'назди', 'наконец', 'нас', 'наход', 'наход ки', 'нахот', 'нахот ки', 'не', 'не', 'него', 'нее', 'ней', 'нельзя', 'нет', 'ни', 'нибудь', 'никогда', 'ним', 'них', 'ничего', 'нм', 'но', 'ну', 'о', 'о', 'о', 'об', 'оббо', 'одан', 'одан', 'один', 'ой', 'ой', 'ой', 'ойпырмай', 'ол', 'олар', 'олардан', 'олардан', 'олардың', 'олармен', 'оларға', 'оларға', 'он', 'он', 'она', 'онда', 'они', 'онымен', 'оның', 'оның', 'опять', 'оре ', 'ором', 'осы', 'осылай', 'осынау', 'осындай', 'осындай', 'от', 'ох', 'охир', 'оё', 'оған', 'оған', 'оҳе', 'оһо', 'па', 'пай', 'пай-пай', 'паси', 'паһ-паһ', 'перед', 'пеш', 'пеши', 'по', 'под', 'после', 'потом', 'потому', 'почти', 'при', 'про', 'пфша', 'пырс', 'пішту', 'пішә', 'раз', 'разве', 'рӯacaba', 'рӯйи', 'с', 'сайын', 'сайын', 'салаң-сұлаң', 'салым', 'салым', 'сам', 'сар карда', 'сарт', 'сарт-сұрт', 'саған', 'саған', 'саңқ', 'свою', 'себе', 'себебі', 'себя', 'сейчас', 'сен', 'сенде', 'сенен', 'сенен\\tонан', 'сенімен', 'сенің', 'сияқты', 'сияқты', 'со', 'совсем', 'сол', 'солай', 'сона', 'сонау', 'сондай', 'сондықтан', 'сондықтан', 'сонымен', 'сорап', 'соң', 'соң', 'сыңқ', 'сіз', 'сізбен', 'сізге', 'сізден', 'сіздер', 'сіздерге', 'сіздерден', 'сіздердің', 'сіздермен', 'сіздің', 'сіздің', 'тавба', 'так', 'такой', 'там', 'таман', 'таман', 'танҳо', 'тарбаң-тарбаң', 'тарс', 'тарс-тұрс', 'тарта', 'тарта', 'таяу', 'таяу', 'тағы', 'тағыда', 'таңқ', 'тебя', 'тек', 'тем', 'теперь', 'то', 'то', 'то вақте ки', 'то даме ки', 'то даме ки ', 'то ки', 'то кӣ', 'тогда', 'того', 'тоже', 'только', 'том', 'тот', 'три', 'ту-ту', 'туралы', 'туралы', 'тут', 'ты', 'тырс', 'тыңқ', 'түге', 'түгел', 'тәк', 'у', 'уа', 'уай', 'уау', 'уж', 'уже', 'ура', 'уҳа', 'фақат', 'хайр', 'хом?ш', 'хорошо', 'хоть', 'хуб ', 'хуш', 'чанд', 'чаро ки', 'чего', 'чем', 'через', 'что', 'чтоб', 'чтобы', 'чун-ки', 'чунки', 'чунон ки', 'чуть', 'чӣ', 'шамалы', 'шамалы', 'шақты', 'шақты', 'шаңқ', 'шаңқ-шаңқ', 'шаңқ-шұңқ', 'шейін', 'шейін', 'шек', 'шояд', 'шояд ки', 'шырт', 'шіркін', 'шіңк', 'шәйт', 'ыржың-тыржың', 'ырс', 'ырқ', 'ыңқ', 'э', 'эй', 'эти', 'этого', 'этой', 'этом', 'этот', 'эту', 'эх', 'эътиборан', 'эҳ', 'эҳа', 'я', 'я', 'япырмай', 'ё', 'ё ин ки  ', 'ё ки', 'ірк', 'ғайри', 'ғана', 'ғұрлы', 'ғұрлы', 'ғұрлым', 'ғұрлым', 'қабл', 'қайсыбір', 'қайқаң-құйқаң', 'қалт-қалт', 'қалт-құлт', 'қана', 'қап', 'қарай', 'қарай', 'қаралы', 'қаралы', 'қатар', 'қатар', 'қаңғыр-күңгір', 'қаңқ-қаңқ', 'қаңқ-құңқ', 'қолп', 'қорс', 'қоса', 'қоса', 'қош-қош', 'қызараң-қызараң', 'қыңқ', 'құр', 'құрау', 'құрау-құрау', 'үйт', 'үшін', 'үшін', 'ҳа', 'ҳай-ҳай ', 'ҳам', 'ҳам ', 'ҳамон', 'ҳамоно', 'ҳангоми', 'ҳар', 'ҳар қадар ки', 'ҳаргиз', 'ҳарчанд', 'ҳатто ', 'ҳатто ки', 'ҳе', 'ҳм', 'ҳмм', 'ҳо ана', 'ҳой', 'ҳой-ҳой ', 'ҳтимол', 'ҳу', 'ҷо', 'ҷуз', 'ә', 'әй', 'әйда', 'әйткенмен', 'әйтпесе', 'әлдекім', 'әлдене', 'әлденеше', 'әлдеқайдан', 'әлдеқалай', 'әлдеқашан', 'әншейін', 'әні', 'әні', 'әрбір', 'әрине', 'әркім', 'әрне', 'әрқайсы', 'әрқалай', 'әттеген-ай', 'әттегенай', 'әттең', 'әукім', 'өз', 'өзге', 'өзі', 'өзім', 'өзіме', 'өзімнің', 'өзіне', 'өзінің', 'өзің', 'өй', 'өйткені', 'ӯ', 'ӯббо', 'ӯим ', 'ӯҳӯ', 'آه', 'آها', 'آي', 'أف', 'أقل', 'أكثر', 'ألا', 'أم', 'أما', 'أما', 'أن', 'أنا', 'أنت', 'أنتم', 'أنتما', 'أنتن', 'أنى', 'أنى', 'أو', 'أولئك', 'أولاء', 'أوه', 'أي', 'أين', 'أين', 'أينما', 'أيها', 'إذ', 'إذا', 'إذما', 'إذن', 'إلا', 'إلى', 'إليك', 'إليكم', 'إليكما', 'إليكن', 'إما', 'إن', 'إنا', 'إنما', 'إنه', 'إي', 'إيه', 'التي', 'الذي', 'الذين', 'اللائي', 'اللاتي', 'اللتان', 'اللتيا', 'اللتين', 'اللذان', 'اللذين', 'اللواتي', 'بخ', 'بس', 'بعد', 'بعض', 'بك', 'بكم', 'بكم', 'بكما', 'بكن', 'بل', 'بلى', 'بما', 'بماذا', 'بمن', 'بنا', 'به', 'بها', 'بهم', 'بهما', 'بهن', 'بي', 'بيد', 'بين', 'تلك', 'تلكم', 'تلكما', 'ته', 'تي', 'تين', 'تينك', 'ثم', 'ثمة', 'حاشا', 'حبذا', 'حتى', 'حيث', 'حيثما', 'حين', 'خلا', 'دون', 'ذا', 'ذات', 'ذاك', 'ذان', 'ذانك', 'ذلك', 'ذلكم', 'ذلكما', 'ذلكن', 'ذه', 'ذو', 'ذوا', 'ذواتا', 'ذواتي', 'ذي', 'ذين', 'ذينك', 'ريث', 'سوف', 'سوى', 'شتان', 'عدا', 'عسى', 'عل', 'على', 'عليك', 'عليه', 'عما', 'عن', 'عند', 'غير', 'فإذا', 'فإن', 'فلا', 'فمن', 'في', 'فيم', 'فيما', 'فيه', 'فيها', 'قد', 'كأن', 'كأنما', 'كأي', 'كأين', 'كذا', 'كذلك', 'كل', 'كلا', 'كلاهما', 'كلتا', 'كلما', 'كليكما', 'كليهما', 'كم', 'كم', 'كما', 'كي', 'كيت', 'كيف', 'كيفما', 'لئن', 'لا', 'لاسيما', 'لدى', 'لست', 'لستم', 'لستما', 'لستن', 'لسن', 'لسنا', 'لعل', 'لك', 'لكم', 'لكما', 'لكن', 'لكنما', 'لكي', 'لكيلا', 'لم', 'لما', 'لن', 'لنا', 'له', 'لها', 'لهم', 'لهما', 'لهن', 'لو', 'لولا', 'لوما', 'لي', 'ليت', 'ليس', 'ليسا', 'ليست', 'ليستا', 'ليسوا', 'ما', 'ماذا', 'متى', 'مذ', 'مع', 'مما', 'ممن', 'من', 'منذ', 'منه', 'منها', 'مه', 'مهما', 'نحن', 'نحو', 'نعم', 'هؤلاء', 'ها', 'هاتان', 'هاته', 'هاتي', 'هاتين', 'هاك', 'هاهنا', 'هذا', 'هذان', 'هذه', 'هذي', 'هذين', 'هكذا', 'هل', 'هلا', 'هم', 'هما', 'هن', 'هنا', 'هناك', 'هنالك', 'هو', 'هي', 'هيا', 'هيت', 'هيهات', 'وإذ', 'وإذا', 'وإن', 'والذي', 'والذين', 'ولا', 'ولكن', 'ولو', 'وما', 'ومن', 'وهو', 'يا', 'अक्सर', 'अगाडी', 'अझै', 'अनुसार', 'अन्तर्गत', 'अन्य', 'अन्यत्र', 'अन्यथा', 'अब', 'अरु', 'अरुलाई', 'अर्को', 'अर्थात', 'अर्थात्', 'अलग', 'आए', 'आजको', 'आत्म', 'आदि', 'आफू', 'आफूलाई', 'आफ्नै', 'आफ्नो', 'आयो', 'उदाहरण', 'उनको', 'उनले', 'उप', 'उहालाई', 'एउटै', 'एक', 'एकदम', 'ओठ', 'औं', 'कतै', 'कम से कम', 'कसरी', 'कसै', 'कसैले', 'कहाँबाट', 'कहिलेकाहीं', 'का', 'का', 'कि', 'किन', 'किनभने', 'कुनै', 'कुरा', 'कृपया', 'के', 'केही', 'को', 'कोही', 'क्रमशः', 'गए', 'गयौ', 'गरि', 'गरी', 'गरेका', 'गरेको', 'गरेर', 'गरौं', 'गर्छ', 'गर्छु', 'गर्दै', 'गर्न', 'गर्नु', 'गर्नुपर्छ', 'गर्ने', 'गैर', 'चार', 'चाले', 'चाहनुहुन्छ', 'चाहन्छु', 'चाहिए', 'छ', 'छन्', 'छु', 'छू', 'छैन', 'छौं', 'जताततै', 'जब', 'जबकि', 'जसको', 'जसबाट', 'जसमा', 'जसलाई', 'जसले', 'जस्तै', 'जस्तो', 'जस्तोसुकै', 'जहाँ', 'जान', 'जाहिर', 'जुन', 'जे', 'जो', 'ठीक', 'त', 'तत्काल', 'तथा', 'तदनुसार', 'तपाई', 'तपाईको', 'तर', 'तल', 'तापनी', 'तिनिहरुलाई', 'तिनी', 'तिनीहरुको', 'तिनीहरू', 'तिमी', 'तिर', 'ती', 'तीन', 'तुरुन्तै', 'तेस्कारण', 'तेस्रो', 'त्यहाँ', 'त्यो', 'त्सपछि', 'त्सैले', 'थिए', 'थिएन', 'थियो', 'दिए', 'दिनुभएको', 'दिनुहुन्छ', 'दुई', 'देखि', 'देखिन्छ', 'देखियो', 'देखे', 'देखेको', 'देखेर', 'दोस्रो', 'धेरै', 'न', 'नजिकै', 'नत्र', 'नयाँ', 'नि', 'निम्ति', 'निम्न', 'निम्नानुसार', 'निर्दिष्ट', 'नै', 'नौ', 'पक्का', 'पक्कै', 'पछि', 'पछिल्लो', 'पटक', 'पनि', 'पर्छ', 'पर्थ्यो', 'पर्याप्त', 'पहिले', 'पहिलो', 'पहिल्यै', 'पाँच', 'पाँचौं', 'पूर्व', 'प्रति', 'प्रतेक', 'प्लस', 'फेरी', 'बने', 'बरु', 'बारे', 'बाहिर', 'बाहेक', 'बिरुद्ध', 'बिशेष', 'बीच', 'बीचमा', 'भए', 'भएको', 'भन', 'भने', 'भन्', 'भन्छन्', 'भन्छु', 'भन्दा', 'भन्नुभयो', 'भन्ने', 'भर', 'भित्र', 'भित्री', 'म', 'मलाई', 'मा', 'मात्र', 'माथि', 'मुख्य', 'मेरो', 'यति', 'यथोचित', 'यदि', 'यद्यपि', 'यस', 'यसको', 'यसपछि', 'यसबाहेक', 'यसरी', 'यसो', 'यस्तो', 'यहाँ', 'यहाँसम्म', 'या', 'यी', 'यो', 'र', 'रही', 'रहेका', 'रहेको', 'राखे', 'राख्छ', 'राम्रो', 'रूप', 'लगभग', 'लाई', 'लागि', 'ले', 'वरीपरी', 'वास्तवमा', 'शायद', 'संग', 'संगै', 'सक्छ', 'सट्टा', 'सधै', 'सबै', 'सबैलाई', 'समय', 'सम्भव', 'सम्म', 'सही', 'साँच्चै', 'सात', 'साथ', 'साथै', 'सायद', 'सारा', 'सो', 'सोही', 'स्पष्ट', 'हरे', 'हरेकog', 'हुन', 'हुने', 'हुन्', 'हुन्छ', 'हो', \"ἀλλ'\", 'ἀλλά', 'ἀλλὰ', 'ἀλλ’', 'ἀπ', 'ἀπό', 'ἀπὸ', 'ἀφ', 'ἂν', 'ἃ', 'ἄλλος', 'ἄλλοσ', 'ἄν', 'ἄρα', 'ἅμα', 'ἐάν', 'ἐγώ', 'ἐγὼ', 'ἐκ', 'ἐμόσ', 'ἐμὸς', 'ἐν', 'ἐξ', 'ἐπί', 'ἐπεὶ', 'ἐπὶ', 'ἐστι', 'ἐφ', 'ἐὰν', 'ἑαυτοῦ', 'ἔτι', 'ἡ', 'ἢ', 'ἣ', 'ἤ', 'ἥ', 'ἧς', 'ἵνα', 'ὁ', 'ὃ', 'ὃν', 'ὃς', 'ὅ', 'ὅδε', 'ὅθεν', 'ὅπερ', 'ὅς', 'ὅσ', 'ὅστις', 'ὅστισ', 'ὅτε', 'ὅτι', 'ὑμόσ', 'ὑπ', 'ὑπέρ', 'ὑπό', 'ὑπὲρ', 'ὑπὸ', 'ὡς', 'ὡσ', 'ὥς', 'ὥστε', 'ὦ', 'ᾧ']\n"
     ]
    }
   ],
   "source": [
    "print(sorted(stopwords.words()))"
   ]
  },
  {
   "cell_type": "markdown",
   "metadata": {
    "id": "s6JvQFOsPHyY"
   },
   "source": [
    "We perform two more transformations to the content of our dataset. We first remove the stopwords using those from 'gensim' and then we also remove all words shorter than three characters. This removes letters that might have remained from the previous transformations and that do not bring any value."
   ]
  },
  {
   "cell_type": "code",
   "execution_count": 14,
   "metadata": {
    "executionInfo": {
     "elapsed": 12661,
     "status": "ok",
     "timestamp": 1618825307593,
     "user": {
      "displayName": "Joshua Campos",
      "photoUrl": "https://lh3.googleusercontent.com/a-/AOh14GgNBYf7hbBqn4J1KUTIQ-AfTLBSfnvPEaVkswsDbg=s64",
      "userId": "15520650830739661074"
     },
     "user_tz": -120
    },
    "id": "eDR6mY61vjv7"
   },
   "outputs": [],
   "source": [
    "data['content'] = data['content'].apply(lambda content: remove_stopwords(content)).apply(lambda content: strip_short(content))"
   ]
  },
  {
   "cell_type": "markdown",
   "metadata": {
    "id": "k1r9y9Z-P83h"
   },
   "source": [
    "We now print the content of the first record as we have done before to see the changes in the text."
   ]
  },
  {
   "cell_type": "code",
   "execution_count": 15,
   "metadata": {
    "colab": {
     "base_uri": "https://localhost:8080/"
    },
    "executionInfo": {
     "elapsed": 12659,
     "status": "ok",
     "timestamp": 1618825307594,
     "user": {
      "displayName": "Joshua Campos",
      "photoUrl": "https://lh3.googleusercontent.com/a-/AOh14GgNBYf7hbBqn4J1KUTIQ-AfTLBSfnvPEaVkswsDbg=s64",
      "userId": "15520650830739661074"
     },
     "user_tz": -120
    },
    "id": "BQMwWM0bwFJR",
    "outputId": "a3e5b085-8a4c-43a2-9afe-321499a6fd83"
   },
   "outputs": [
    {
     "name": "stdout",
     "output_type": "stream",
     "text": [
      "car wondering enlighten car saw day door sports car looked late early called bricklin doors small addition bumper separate rest body know tellme model engine specs years production car history info funky looking car mail thanks\n"
     ]
    }
   ],
   "source": [
    "print(data['content'][0])"
   ]
  },
  {
   "cell_type": "markdown",
   "metadata": {
    "id": "TdfSohLHxEHN"
   },
   "source": [
    "## Part E: Stemming and Lematization"
   ]
  },
  {
   "cell_type": "markdown",
   "metadata": {
    "id": "0a7jOS2CR_s_"
   },
   "source": [
    "We create a copy of our data, and then apply a stemming transformation to our data, which removes all possible inflections in the words, like prefixes and suffixes, leaving only the stem of each word, as we can later see when we print the content of the first record."
   ]
  },
  {
   "cell_type": "code",
   "execution_count": 16,
   "metadata": {
    "colab": {
     "base_uri": "https://localhost:8080/"
    },
    "executionInfo": {
     "elapsed": 24042,
     "status": "ok",
     "timestamp": 1618825318982,
     "user": {
      "displayName": "Joshua Campos",
      "photoUrl": "https://lh3.googleusercontent.com/a-/AOh14GgNBYf7hbBqn4J1KUTIQ-AfTLBSfnvPEaVkswsDbg=s64",
      "userId": "15520650830739661074"
     },
     "user_tz": -120
    },
    "id": "M6zNj48rR4rO",
    "outputId": "3c184ed8-95c4-4ae9-b2fa-ad8d6a957e50"
   },
   "outputs": [
    {
     "name": "stdout",
     "output_type": "stream",
     "text": [
      "car wonder enlighten car saw dai door sport car look late earli call bricklin door small addit bumper separ rest bodi know tellm model engin spec year product car histori info funki look car mail thank\n"
     ]
    }
   ],
   "source": [
    "stemmed_data = data.copy()\n",
    "stemmed_data['content'] = stemmed_data['content'].apply(lambda content: stem_text(content))\n",
    "\n",
    "print(stemmed_data['content'][0])"
   ]
  },
  {
   "cell_type": "markdown",
   "metadata": {
    "id": "L3sq8vB4QErt"
   },
   "source": [
    "We first load Spacy's english model, then create another copy of our data, and then apply lemmatization to the content of our dataset. With lemmatization, we are also removing all inflections from words, like prefixes and suffixes, but leaving the lemma of the word, which compared to the stem from the previous step, a lemma is an actual word. We can see this when we print the content of the first record again."
   ]
  },
  {
   "cell_type": "code",
   "execution_count": 17,
   "metadata": {
    "colab": {
     "base_uri": "https://localhost:8080/"
    },
    "executionInfo": {
     "elapsed": 739393,
     "status": "ok",
     "timestamp": 1618826034338,
     "user": {
      "displayName": "Joshua Campos",
      "photoUrl": "https://lh3.googleusercontent.com/a-/AOh14GgNBYf7hbBqn4J1KUTIQ-AfTLBSfnvPEaVkswsDbg=s64",
      "userId": "15520650830739661074"
     },
     "user_tz": -120
    },
    "id": "ovzqqU0Cw8yu",
    "outputId": "06b71b85-a876-4f50-a048-89097c07af01"
   },
   "outputs": [
    {
     "name": "stdout",
     "output_type": "stream",
     "text": [
      "car wonder enlighten car see day door sport car look late early call bricklin door small addition bumper separate rest body know tellme model engine specs year production car history info funky looking car mail thank\n"
     ]
    }
   ],
   "source": [
    "nlp = en_core_web_sm.load()\n",
    "\n",
    "lemmatized_data = data.copy()\n",
    "lemmatized_data['content'] = lemmatized_data['content'].apply(lambda content: ' '.join([token.lemma_ for token in nlp(content)]))\n",
    "\n",
    "print(lemmatized_data['content'][0])"
   ]
  },
  {
   "cell_type": "markdown",
   "metadata": {
    "id": "bh9ZPpRiUtos"
   },
   "source": [
    "Here we are just mounting the Google drive so we can access its folders and files."
   ]
  },
  {
   "cell_type": "code",
   "execution_count": 18,
   "metadata": {
    "colab": {
     "base_uri": "https://localhost:8080/"
    },
    "executionInfo": {
     "elapsed": 739389,
     "status": "ok",
     "timestamp": 1618826034339,
     "user": {
      "displayName": "Joshua Campos",
      "photoUrl": "https://lh3.googleusercontent.com/a-/AOh14GgNBYf7hbBqn4J1KUTIQ-AfTLBSfnvPEaVkswsDbg=s64",
      "userId": "15520650830739661074"
     },
     "user_tz": -120
    },
    "id": "ACDX30co30O4",
    "outputId": "80089d60-a6c4-418a-d1f3-84ec23a13a28"
   },
   "outputs": [
    {
     "name": "stdout",
     "output_type": "stream",
     "text": [
      "Drive already mounted at /content/drive; to attempt to forcibly remount, call drive.mount(\"/content/drive\", force_remount=True).\n"
     ]
    }
   ],
   "source": [
    "from google.colab import drive\n",
    "drive.mount('/content/drive')"
   ]
  },
  {
   "cell_type": "markdown",
   "metadata": {
    "id": "9Ky1EW3FU2J-"
   },
   "source": [
    "We finally save our transformed datasets in Google drive by using 'pickle'. By saving our datasets in a file, we don't have to run all the transformations again every time. We can just load the files back and continue working on them."
   ]
  },
  {
   "cell_type": "code",
   "execution_count": 19,
   "metadata": {
    "executionInfo": {
     "elapsed": 739384,
     "status": "ok",
     "timestamp": 1618826034339,
     "user": {
      "displayName": "Joshua Campos",
      "photoUrl": "https://lh3.googleusercontent.com/a-/AOh14GgNBYf7hbBqn4J1KUTIQ-AfTLBSfnvPEaVkswsDbg=s64",
      "userId": "15520650830739661074"
     },
     "user_tz": -120
    },
    "id": "FC1wO0IW4JL-"
   },
   "outputs": [],
   "source": [
    "pickle.dump(stemmed_data, open('/content/drive/MyDrive/Colab Notebooks/TWSM Analytics Lab/storage/stemmed_data.p', 'wb'))\n",
    "pickle.dump(lemmatized_data, open('/content/drive/MyDrive/Colab Notebooks/TWSM Analytics Lab/storage/lemmatized_data.p', 'wb'))"
   ]
  }
 ],
 "metadata": {
  "colab": {
   "authorship_tag": "ABX9TyMqzxHRpU0Py1TW1AgLdKqy",
   "name": "2_Preprocessing.ipynb",
   "provenance": []
  },
  "kernelspec": {
   "display_name": "Python 3",
   "language": "python",
   "name": "python3"
  },
  "language_info": {
   "codemirror_mode": {
    "name": "ipython",
    "version": 3
   },
   "file_extension": ".py",
   "mimetype": "text/x-python",
   "name": "python",
   "nbconvert_exporter": "python",
   "pygments_lexer": "ipython3",
   "version": "3.8.8"
  }
 },
 "nbformat": 4,
 "nbformat_minor": 1
}
