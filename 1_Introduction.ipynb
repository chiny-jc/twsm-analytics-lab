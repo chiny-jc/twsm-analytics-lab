{
 "cells": [
  {
   "cell_type": "markdown",
   "metadata": {
    "id": "z4X8VrqKc0zq"
   },
   "source": [
    "# Exercise 1. Introduction\n",
    "## Text, Web and Social Media Analytics Lab"
   ]
  },
  {
   "cell_type": "markdown",
   "metadata": {
    "id": "tmOPJVICdEAb"
   },
   "source": [
    "We first import the packages that we will be using. "
   ]
  },
  {
   "cell_type": "code",
   "execution_count": 1,
   "metadata": {
    "executionInfo": {
     "elapsed": 635,
     "status": "ok",
     "timestamp": 1618757692689,
     "user": {
      "displayName": "Joshua Campos",
      "photoUrl": "https://lh3.googleusercontent.com/a-/AOh14GgNBYf7hbBqn4J1KUTIQ-AfTLBSfnvPEaVkswsDbg=s64",
      "userId": "15520650830739661074"
     },
     "user_tz": -120
    },
    "id": "zSa0xFbjPZWP"
   },
   "outputs": [],
   "source": [
    "from tweepy import OAuthHandler, API, Cursor"
   ]
  },
  {
   "cell_type": "markdown",
   "metadata": {
    "id": "oqp8oJtLdH5M"
   },
   "source": [
    "We define variables for the keys and tokens needed to use the Twitter API. We then create an authentication handler, where we pass our keys and tokens to identify ourselves. After doing this, we can now pass our credentials to the Twitter API and search for different tweets, which in this case are related to COVID-19. We then print them all."
   ]
  },
  {
   "cell_type": "code",
   "execution_count": 2,
   "metadata": {
    "colab": {
     "base_uri": "https://localhost:8080/"
    },
    "executionInfo": {
     "elapsed": 1663,
     "status": "ok",
     "timestamp": 1618757693723,
     "user": {
      "displayName": "Joshua Campos",
      "photoUrl": "https://lh3.googleusercontent.com/a-/AOh14GgNBYf7hbBqn4J1KUTIQ-AfTLBSfnvPEaVkswsDbg=s64",
      "userId": "15520650830739661074"
     },
     "user_tz": -120
    },
    "id": "yWn8EhkaPvXZ",
    "outputId": "06f93557-5b34-4e7e-9e17-02f11e400356"
   },
   "outputs": [
    {
     "name": "stdout",
     "output_type": "stream",
     "text": [
      "RT @TataSteelLtd: Medical oxygen is critical to the treatment of #COVID19 patients. Responding to the National urgency, we're supplying 200…\n",
      "RT @paimadhu: Drug treatments for #COVID19\n",
      "\n",
      "Useful summary of evidence @bmj_latest \n",
      "\n",
      "https://t.co/roty6Wmske https://t.co/QeRX7fTLow\n",
      "RT @VaxHuntersCan: [ON] GTA Toronto lets get you vaccinated hundreds of appointments ready to fill!!! \n",
      "https://t.co/rLR3xXpBKK\n",
      "55+ \n",
      "#COVID1…\n",
      "RT @sohan45270827: Some helpline no.s #COVID19 #COVIDEmergency https://t.co/aOaLU0B3v8\n",
      "RT @MaryJoe38642126: .@iamwill \n",
      "\n",
      "PLS🙏🏽 #SpeakOut re: It’s #Imperative That #China #BanYulin &amp; The #DogCatMeatTrade As Well As #WetMarkets…\n"
     ]
    }
   ],
   "source": [
    "consumer_key = 'XXXX'\n",
    "consumer_secret = 'XXXX'\n",
    "access_key = 'XXXX'\n",
    "access_secret = 'XXXX'\n",
    "\n",
    "auth = OAuthHandler(consumer_key, consumer_secret)\n",
    "auth.set_access_token(access_key, access_secret)\n",
    "api = API(auth,wait_on_rate_limit=True)\n",
    "\n",
    "counter = 0\n",
    "for tweet in Cursor(api.search, q=\"#covid19\", count=5, lang='en', tweet_mode='extended').items():\n",
    "  print(tweet.full_text)\n",
    "  counter += 1\n",
    "  if counter == 5:\n",
    "    break\n",
    "  else:\n",
    "    pass"
   ]
  }
 ],
 "metadata": {
  "colab": {
   "authorship_tag": "ABX9TyNOD5MbwMxR6KoogxppeWaJ",
   "name": "1_Introduction.ipynb",
   "provenance": []
  },
  "kernelspec": {
   "display_name": "Python 3",
   "language": "python",
   "name": "python3"
  },
  "language_info": {
   "codemirror_mode": {
    "name": "ipython",
    "version": 3
   },
   "file_extension": ".py",
   "mimetype": "text/x-python",
   "name": "python",
   "nbconvert_exporter": "python",
   "pygments_lexer": "ipython3",
   "version": "3.8.8"
  }
 },
 "nbformat": 4,
 "nbformat_minor": 1
}
